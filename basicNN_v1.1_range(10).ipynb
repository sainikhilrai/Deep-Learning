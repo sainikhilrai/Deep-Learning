{
  "nbformat": 4,
  "nbformat_minor": 0,
  "metadata": {
    "colab": {
      "name": "basicNN.ipynb",
      "version": "0.3.2",
      "provenance": [],
      "collapsed_sections": [],
      "include_colab_link": true
    },
    "kernelspec": {
      "name": "python3",
      "display_name": "Python 3"
    }
  },
  "cells": [
    {
      "cell_type": "markdown",
      "metadata": {
        "id": "view-in-github",
        "colab_type": "text"
      },
      "source": [
        "<a href=\"https://colab.research.google.com/github/sainikhilrai/Deep-Learning/blob/master/basicNN_v1.1_range(10).ipynb\" target=\"_parent\"><img src=\"https://colab.research.google.com/assets/colab-badge.svg\" alt=\"Open In Colab\"/></a>"
      ]
    },
    {
      "cell_type": "code",
      "metadata": {
        "id": "FXDMGcUdTSgJ",
        "colab_type": "code",
        "outputId": "16436be7-9a04-433e-dd49-3a742b759056",
        "colab": {
          "base_uri": "https://localhost:8080/",
          "height": 34
        }
      },
      "source": [
        "import keras"
      ],
      "execution_count": 1,
      "outputs": [
        {
          "output_type": "stream",
          "text": [
            "Using TensorFlow backend.\n"
          ],
          "name": "stderr"
        }
      ]
    },
    {
      "cell_type": "code",
      "metadata": {
        "id": "IgW3o9dzTys8",
        "colab_type": "code",
        "colab": {}
      },
      "source": [
        "# OM SRI SAI RAM\n",
        "\n",
        "# Descr: Basic or experiment code to perform loss reserve prediction\n",
        "\n",
        "##############################\n",
        "# Step 1 : Reading Sample Data\n",
        "##############################\n",
        "\n",
        "import numpy as np\n",
        "import random\n",
        "import sklearn\n",
        "import os\n",
        "\n",
        "from sklearn.preprocessing import LabelEncoder\n",
        "\n",
        "os.environ[\"KERAS_BACKEND\"] = \"theano\"\n",
        "np.random.seed(7)\n",
        "random.seed(7)\n",
        "accident_years = np.arange(2005,2013,1)\n",
        "development_years = np.arange(0,8,1)\n",
        "triangle = np.array(([1232,946,520,722,316,165,48,14],\n",
        "                   [1469,1201,708,845, 461,235,56,18],\n",
        "                   [1652,1416,959,954,605,287,69,21],\n",
        "                   [1831,1634,1124,1087,725,314,79,24],\n",
        "                   [2074,1919,1330,1240,756,359,91,28],\n",
        "                   [2434,2263,1661,1540,909,432,109,33],\n",
        "                   [2810,2108,1544,1565,924,439,111,34],\n",
        "                   [3072,2614,1785,1810,1069,508,128,39]))\n"
      ],
      "execution_count": 0,
      "outputs": []
    },
    {
      "cell_type": "code",
      "metadata": {
        "id": "_SaElBKbVoUC",
        "colab_type": "code",
        "outputId": "0a17fda2-44c3-4d6c-c9ac-fac30649ddb6",
        "colab": {
          "base_uri": "https://localhost:8080/",
          "height": 185
        }
      },
      "source": [
        "print(' Accident Years',accident_years)\n",
        "print(' Developement Years',development_years)\n",
        "print(' Input', triangle)\n"
      ],
      "execution_count": 3,
      "outputs": [
        {
          "output_type": "stream",
          "text": [
            " Accident Years [2005 2006 2007 2008 2009 2010 2011 2012]\n",
            " Developement Years [0 1 2 3 4 5 6 7]\n",
            " Input [[1232  946  520  722  316  165   48   14]\n",
            " [1469 1201  708  845  461  235   56   18]\n",
            " [1652 1416  959  954  605  287   69   21]\n",
            " [1831 1634 1124 1087  725  314   79   24]\n",
            " [2074 1919 1330 1240  756  359   91   28]\n",
            " [2434 2263 1661 1540  909  432  109   33]\n",
            " [2810 2108 1544 1565  924  439  111   34]\n",
            " [3072 2614 1785 1810 1069  508  128   39]]\n"
          ],
          "name": "stdout"
        }
      ]
    },
    {
      "cell_type": "code",
      "metadata": {
        "id": "N83F8aBRjvAC",
        "colab_type": "code",
        "colab": {}
      },
      "source": [
        ""
      ],
      "execution_count": 0,
      "outputs": []
    },
    {
      "cell_type": "code",
      "metadata": {
        "id": "lxKIvAMXnuIp",
        "colab_type": "code",
        "colab": {}
      },
      "source": [
        "newTriangle= np.zeros([8,8])\n",
        "for i in range(triangle.shape[0]):\n",
        "  for j in range(triangle.shape[1]-i):\n",
        "    newTriangle[i,j]= triangle[i,j]\n",
        "\n"
      ],
      "execution_count": 0,
      "outputs": []
    },
    {
      "cell_type": "code",
      "metadata": {
        "id": "c1o6xqDJ-sns",
        "colab_type": "code",
        "colab": {}
      },
      "source": [
        ""
      ],
      "execution_count": 0,
      "outputs": []
    },
    {
      "cell_type": "code",
      "metadata": {
        "id": "0u2AQuUVoJdb",
        "colab_type": "code",
        "outputId": "74b2698b-8017-4721-fbb5-649958d009df",
        "colab": {
          "base_uri": "https://localhost:8080/",
          "height": 151
        }
      },
      "source": [
        "print(newTriangle)"
      ],
      "execution_count": 5,
      "outputs": [
        {
          "output_type": "stream",
          "text": [
            "[[1232.  946.  520.  722.  316.  165.   48.   14.]\n",
            " [1469. 1201.  708.  845.  461.  235.   56.    0.]\n",
            " [1652. 1416.  959.  954.  605.  287.    0.    0.]\n",
            " [1831. 1634. 1124. 1087.  725.    0.    0.    0.]\n",
            " [2074. 1919. 1330. 1240.    0.    0.    0.    0.]\n",
            " [2434. 2263. 1661.    0.    0.    0.    0.    0.]\n",
            " [2810. 2108.    0.    0.    0.    0.    0.    0.]\n",
            " [3072.    0.    0.    0.    0.    0.    0.    0.]]\n"
          ],
          "name": "stdout"
        }
      ]
    },
    {
      "cell_type": "code",
      "metadata": {
        "id": "6xFnd0UgXEsv",
        "colab_type": "code",
        "outputId": "415156f6-36f1-49b5-ebf1-ffd41a48948c",
        "colab": {
          "base_uri": "https://localhost:8080/",
          "height": 151
        }
      },
      "source": [
        "# Cum calc\n",
        "C = np.zeros(shape=(np.shape(triangle)[0],np.shape(triangle)[1]))\n",
        "for i in range(np.shape(triangle)[0]):\n",
        "    for j in range(np.shape(triangle)[1]):\n",
        "        C[i,j] = sum(triangle[i,:j+1])\n",
        "\n",
        "print('C',C)"
      ],
      "execution_count": 6,
      "outputs": [
        {
          "output_type": "stream",
          "text": [
            "C [[ 1232.  2178.  2698.  3420.  3736.  3901.  3949.  3963.]\n",
            " [ 1469.  2670.  3378.  4223.  4684.  4919.  4975.  4993.]\n",
            " [ 1652.  3068.  4027.  4981.  5586.  5873.  5942.  5963.]\n",
            " [ 1831.  3465.  4589.  5676.  6401.  6715.  6794.  6818.]\n",
            " [ 2074.  3993.  5323.  6563.  7319.  7678.  7769.  7797.]\n",
            " [ 2434.  4697.  6358.  7898.  8807.  9239.  9348.  9381.]\n",
            " [ 2810.  4918.  6462.  8027.  8951.  9390.  9501.  9535.]\n",
            " [ 3072.  5686.  7471.  9281. 10350. 10858. 10986. 11025.]]\n"
          ],
          "name": "stdout"
        }
      ]
    },
    {
      "cell_type": "code",
      "metadata": {
        "id": "S-kN237MXHlB",
        "colab_type": "code",
        "outputId": "cffe06de-980a-4634-d340-a2a41250c489",
        "colab": {
          "base_uri": "https://localhost:8080/",
          "height": 50
        }
      },
      "source": [
        "l_encode = LabelEncoder()\n",
        "l_encode.fit(accident_years)\n",
        "a_yr = l_encode.transform(accident_years)\n",
        "l_encode.fit(development_years)\n",
        "dev_yr = l_encode.transform(development_years)\n",
        "\n",
        "print(a_yr)\n",
        "print(dev_yr)\n"
      ],
      "execution_count": 7,
      "outputs": [
        {
          "output_type": "stream",
          "text": [
            "[0 1 2 3 4 5 6 7]\n",
            "[0 1 2 3 4 5 6 7]\n"
          ],
          "name": "stdout"
        }
      ]
    },
    {
      "cell_type": "code",
      "metadata": {
        "id": "9CYD5o6iXTgj",
        "colab_type": "code",
        "colab": {}
      },
      "source": [
        "train_data = []\n",
        "for i in range(np.shape(triangle)[0]):\n",
        "    for j in range(np.shape(triangle)[1]-i):\n",
        "        train_data.append([a_yr[i],dev_yr[j],C[i,j]])\n",
        "        \n",
        "test_data = []\n",
        "for i in range(1,np.shape(triangle)[0]):\n",
        "    for j in range(np.shape(triangle)[1]-i,np.shape(triangle)[1]):\n",
        "        test_data.append([a_yr[i],dev_yr[j],C[i,j]])\n",
        "\n",
        " \n",
        "#convert trainData and testData into numpyArray\n",
        "#train_data = np.array(train_data)\n",
        "test_data = np.array(test_data)\n"
      ],
      "execution_count": 0,
      "outputs": []
    },
    {
      "cell_type": "code",
      "metadata": {
        "id": "u9QTPXCuk66q",
        "colab_type": "code",
        "colab": {}
      },
      "source": [
        "######################################################\n",
        "############## code for the bootstrap  ###############\n",
        "######################################################\n",
        "\n",
        "\n",
        "\n",
        "#code for generating the other triangle\n",
        "\n",
        "\n",
        "for iteratrion in range(100):\n",
        "  newTriangle2= np.zeros((triangle.shape[0],triangle.shape[1]))\n",
        "  for i in range(triangle.shape[0]):\n",
        "    for j in range(triangle.shape[1]-i):\n",
        "        newTriangle2[i,j]= newTriangle[i,j] + np.random.randint(-10,10)  #add some random value\n",
        "  difference= newTriangle2-newTriangle   #take the error\n",
        "  \n",
        "  \n",
        "  \n",
        "  #get the column of the difference\n",
        "  columncount=triangle.shape[1]\n",
        "  for columnIndex in range(triangle.shape[1]):\n",
        "    column= difference[:columncount,columnIndex]   #get the column of the error matrix\n",
        "    np.random.shuffle(column)                      # shuffle the column\n",
        "    newTriangle[:columncount,columnIndex]= newTriangle[:columncount,columnIndex]+ column    #get the bootstrap sample\n",
        "    columncount= columncount-1\n",
        "    \n",
        "  #print(\"Bootstrap New Triangle:\\n\")\n",
        "  #print(newTriangle)\n",
        "  \n",
        "  #find the cumulative sum of new Bootstrap New Triangle\n",
        "  # Cum calc\n",
        "  newC = np.zeros(shape=(np.shape(triangle)[0],np.shape(triangle)[1]))\n",
        "  for i in range(np.shape(triangle)[0]):\n",
        "    for j in range(np.shape(newTriangle)[1]):\n",
        "        newC[i,j] = sum(newTriangle[i,:j+1])\n",
        "\n",
        "  \n",
        "  \n",
        "  #combine the new triangle with the already existing training set\n",
        "  \n",
        "  for i in range(np.shape(triangle)[0]):\n",
        "    for j in range(np.shape(triangle)[1]-i):\n",
        "        train_data.append([a_yr[i],dev_yr[j],newC[i,j]])\n",
        "  "
      ],
      "execution_count": 0,
      "outputs": []
    },
    {
      "cell_type": "code",
      "metadata": {
        "id": "5s9rNliuooEw",
        "colab_type": "code",
        "outputId": "0f53bd13-3b2c-44d0-f11b-5525675c3e17",
        "colab": {
          "base_uri": "https://localhost:8080/",
          "height": 34
        }
      },
      "source": [
        "train_data= np.array(train_data)\n",
        "train_data.shape\n",
        "#train_data[71,:]"
      ],
      "execution_count": 10,
      "outputs": [
        {
          "output_type": "execute_result",
          "data": {
            "text/plain": [
              "(3636, 3)"
            ]
          },
          "metadata": {
            "tags": []
          },
          "execution_count": 10
        }
      ]
    },
    {
      "cell_type": "code",
      "metadata": {
        "id": "VKiRk2sLowih",
        "colab_type": "code",
        "colab": {}
      },
      "source": [
        "##############\n",
        "# define the loss function\n",
        "################\n",
        "\n",
        "def poisson_dev(y_true, y_pred):\n",
        "    return 2*K.mean(y_pred - y_true -y_true*(K.log(K.clip(y_pred,K.epsilon(),None)) -K.log(K.clip(y_true,K.epsilon(),None))),axis=-1)"
      ],
      "execution_count": 0,
      "outputs": []
    },
    {
      "cell_type": "code",
      "metadata": {
        "id": "ZmetbmKLXvZr",
        "colab_type": "code",
        "colab": {}
      },
      "source": [
        "#############################################\n",
        "# Step 3: Build Model using Neural Networks\n",
        "#############################################\n",
        "\n",
        "import keras\n",
        "import keras.backend as K\n",
        "from keras.layers import Input, Dense, Dropout\n",
        "from keras.models import Model, Sequential\n",
        "from keras import optimizers"
      ],
      "execution_count": 0,
      "outputs": []
    },
    {
      "cell_type": "code",
      "metadata": {
        "id": "T1FqBvc7YIDr",
        "colab_type": "code",
        "outputId": "9812c650-568e-47b4-9d43-3603f9c5b0dd",
        "colab": {
          "base_uri": "https://localhost:8080/",
          "height": 138
        }
      },
      "source": [
        "model = Sequential()\n",
        "ip_dim = 2\n",
        "#model.add(Dropout(0.1, input_shape=(ip_dim,))\n",
        "model.add(Dense(2, input_dim=ip_dim, kernel_initializer='normal', activation='relu'))\n",
        "model.add(Dense(20, kernel_initializer='normal', activation='relu'))\n",
        "model.add(Dropout(0.1))\n",
        "model.add(Dense(10, kernel_initializer='normal', activation='relu'))\n",
        "model.add(Dropout(0.1))\n",
        "model.add(Dense(2, kernel_initializer='normal', activation='relu'))\n",
        "model.add(Dense(1, kernel_initializer='normal',activation=\"exponential\"))\n",
        "# Compile model\n",
        "model.compile(loss=poisson_dev, optimizer='adam',metrics=['accuracy'])\n"
      ],
      "execution_count": 13,
      "outputs": [
        {
          "output_type": "stream",
          "text": [
            "WARNING:tensorflow:From /usr/local/lib/python3.6/dist-packages/tensorflow/python/framework/op_def_library.py:263: colocate_with (from tensorflow.python.framework.ops) is deprecated and will be removed in a future version.\n",
            "Instructions for updating:\n",
            "Colocations handled automatically by placer.\n",
            "WARNING:tensorflow:From /usr/local/lib/python3.6/dist-packages/keras/backend/tensorflow_backend.py:3445: calling dropout (from tensorflow.python.ops.nn_ops) with keep_prob is deprecated and will be removed in a future version.\n",
            "Instructions for updating:\n",
            "Please use `rate` instead of `keep_prob`. Rate should be set to `rate = 1 - keep_prob`.\n"
          ],
          "name": "stdout"
        }
      ]
    },
    {
      "cell_type": "code",
      "metadata": {
        "id": "P-wsu_pDYSZ4",
        "colab_type": "code",
        "outputId": "d661a305-6872-42bc-dba3-4a64b2919dab",
        "colab": {
          "base_uri": "https://localhost:8080/",
          "height": 10184
        }
      },
      "source": [
        "history = model.fit(x=train_data[:,:ip_dim], y=train_data[:,ip_dim], batch_size=1, epochs=300, verbose=1, callbacks=None, validation_split=0.33, validation_data=None, shuffle=True, class_weight=None, sample_weight=None, initial_epoch=0, steps_per_epoch=None, validation_steps=None)\n"
      ],
      "execution_count": 14,
      "outputs": [
        {
          "output_type": "stream",
          "text": [
            "WARNING:tensorflow:From /usr/local/lib/python3.6/dist-packages/tensorflow/python/ops/math_ops.py:3066: to_int32 (from tensorflow.python.ops.math_ops) is deprecated and will be removed in a future version.\n",
            "Instructions for updating:\n",
            "Use tf.cast instead.\n",
            "Train on 2436 samples, validate on 1200 samples\n",
            "Epoch 1/300\n",
            "2436/2436 [==============================] - 4s 2ms/step - loss: 11091.0535 - acc: 0.0000e+00 - val_loss: 3074.3167 - val_acc: 0.0000e+00\n",
            "Epoch 2/300\n",
            "2436/2436 [==============================] - 3s 1ms/step - loss: 5131.1902 - acc: 0.0000e+00 - val_loss: 1480.7429 - val_acc: 0.0000e+00\n",
            "Epoch 3/300\n",
            "2436/2436 [==============================] - 3s 1ms/step - loss: 3797.5152 - acc: 0.0000e+00 - val_loss: 1339.9308 - val_acc: 0.0000e+00\n",
            "Epoch 4/300\n",
            "2436/2436 [==============================] - 3s 1ms/step - loss: 2857.1295 - acc: 4.1051e-04 - val_loss: 770.2567 - val_acc: 0.0017\n",
            "Epoch 5/300\n",
            "2436/2436 [==============================] - 3s 1ms/step - loss: 2454.6182 - acc: 0.0000e+00 - val_loss: 455.1671 - val_acc: 0.0000e+00\n",
            "Epoch 6/300\n",
            "2436/2436 [==============================] - 3s 1ms/step - loss: 2046.6083 - acc: 4.1051e-04 - val_loss: 220.4509 - val_acc: 0.0000e+00\n",
            "Epoch 7/300\n",
            "2436/2436 [==============================] - 3s 1ms/step - loss: 1667.2935 - acc: 4.1051e-04 - val_loss: 643.3252 - val_acc: 0.0000e+00\n",
            "Epoch 8/300\n",
            "2436/2436 [==============================] - 3s 1ms/step - loss: 1320.9464 - acc: 0.0000e+00 - val_loss: 262.1026 - val_acc: 0.0017\n",
            "Epoch 9/300\n",
            "2436/2436 [==============================] - 3s 1ms/step - loss: 1082.1745 - acc: 0.0000e+00 - val_loss: 213.7676 - val_acc: 0.0000e+00\n",
            "Epoch 10/300\n",
            "2436/2436 [==============================] - 3s 1ms/step - loss: 866.8425 - acc: 0.0000e+00 - val_loss: 223.2497 - val_acc: 0.0000e+00\n",
            "Epoch 11/300\n",
            "2436/2436 [==============================] - 3s 1ms/step - loss: 710.3722 - acc: 0.0000e+00 - val_loss: 223.5970 - val_acc: 0.0000e+00\n",
            "Epoch 12/300\n",
            "2436/2436 [==============================] - 3s 1ms/step - loss: 590.2077 - acc: 4.1051e-04 - val_loss: 239.8198 - val_acc: 0.0000e+00\n",
            "Epoch 13/300\n",
            "2436/2436 [==============================] - 3s 1ms/step - loss: 461.3402 - acc: 8.2102e-04 - val_loss: 207.6928 - val_acc: 0.0000e+00\n",
            "Epoch 14/300\n",
            "2436/2436 [==============================] - 3s 1ms/step - loss: 382.5824 - acc: 8.2102e-04 - val_loss: 259.1229 - val_acc: 0.0000e+00\n",
            "Epoch 15/300\n",
            "2436/2436 [==============================] - 3s 1ms/step - loss: 316.0227 - acc: 0.0000e+00 - val_loss: 210.0231 - val_acc: 0.0000e+00\n",
            "Epoch 16/300\n",
            "2436/2436 [==============================] - 3s 1ms/step - loss: 302.9935 - acc: 0.0000e+00 - val_loss: 228.5183 - val_acc: 0.0000e+00\n",
            "Epoch 17/300\n",
            "2436/2436 [==============================] - 3s 1ms/step - loss: 274.8022 - acc: 0.0000e+00 - val_loss: 207.6261 - val_acc: 0.0017\n",
            "Epoch 18/300\n",
            "2436/2436 [==============================] - 3s 1ms/step - loss: 274.1355 - acc: 0.0000e+00 - val_loss: 218.4662 - val_acc: 0.0000e+00\n",
            "Epoch 19/300\n",
            "2436/2436 [==============================] - 3s 1ms/step - loss: 261.0380 - acc: 0.0000e+00 - val_loss: 216.2968 - val_acc: 0.0000e+00\n",
            "Epoch 20/300\n",
            "2436/2436 [==============================] - 3s 1ms/step - loss: 260.5235 - acc: 0.0000e+00 - val_loss: 217.4777 - val_acc: 0.0017\n",
            "Epoch 21/300\n",
            "2436/2436 [==============================] - 3s 1ms/step - loss: 249.7496 - acc: 4.1051e-04 - val_loss: 207.0723 - val_acc: 0.0000e+00\n",
            "Epoch 22/300\n",
            "2436/2436 [==============================] - 3s 1ms/step - loss: 252.8345 - acc: 8.2102e-04 - val_loss: 217.7667 - val_acc: 0.0000e+00\n",
            "Epoch 23/300\n",
            "2436/2436 [==============================] - 3s 1ms/step - loss: 247.0751 - acc: 0.0000e+00 - val_loss: 211.3983 - val_acc: 0.0000e+00\n",
            "Epoch 24/300\n",
            "2436/2436 [==============================] - 3s 1ms/step - loss: 247.6406 - acc: 0.0000e+00 - val_loss: 250.0270 - val_acc: 8.3333e-04\n",
            "Epoch 25/300\n",
            "2436/2436 [==============================] - 3s 1ms/step - loss: 239.1627 - acc: 8.2102e-04 - val_loss: 202.7426 - val_acc: 8.3333e-04\n",
            "Epoch 26/300\n",
            "2436/2436 [==============================] - 3s 1ms/step - loss: 242.8425 - acc: 8.2102e-04 - val_loss: 210.0053 - val_acc: 0.0000e+00\n",
            "Epoch 27/300\n",
            "2436/2436 [==============================] - 3s 1ms/step - loss: 244.4713 - acc: 0.0000e+00 - val_loss: 210.1088 - val_acc: 0.0000e+00\n",
            "Epoch 28/300\n",
            "2436/2436 [==============================] - 3s 1ms/step - loss: 239.8485 - acc: 0.0000e+00 - val_loss: 212.4239 - val_acc: 8.3333e-04\n",
            "Epoch 29/300\n",
            "2436/2436 [==============================] - 3s 1ms/step - loss: 236.8580 - acc: 4.1051e-04 - val_loss: 246.2599 - val_acc: 0.0000e+00\n",
            "Epoch 30/300\n",
            "2436/2436 [==============================] - 3s 1ms/step - loss: 242.3240 - acc: 0.0000e+00 - val_loss: 226.0631 - val_acc: 0.0000e+00\n",
            "Epoch 31/300\n",
            "2436/2436 [==============================] - 3s 1ms/step - loss: 247.5669 - acc: 4.1051e-04 - val_loss: 209.5236 - val_acc: 8.3333e-04\n",
            "Epoch 32/300\n",
            "2436/2436 [==============================] - 3s 1ms/step - loss: 238.6288 - acc: 8.2102e-04 - val_loss: 235.4726 - val_acc: 0.0000e+00\n",
            "Epoch 33/300\n",
            "2436/2436 [==============================] - 3s 1ms/step - loss: 239.8827 - acc: 0.0000e+00 - val_loss: 252.6012 - val_acc: 8.3333e-04\n",
            "Epoch 34/300\n",
            "2436/2436 [==============================] - 3s 1ms/step - loss: 241.7213 - acc: 4.1051e-04 - val_loss: 205.2767 - val_acc: 0.0000e+00\n",
            "Epoch 35/300\n",
            "2436/2436 [==============================] - 3s 1ms/step - loss: 245.3257 - acc: 4.1051e-04 - val_loss: 213.0429 - val_acc: 0.0000e+00\n",
            "Epoch 36/300\n",
            "2436/2436 [==============================] - 3s 1ms/step - loss: 241.1361 - acc: 4.1051e-04 - val_loss: 226.4012 - val_acc: 0.0000e+00\n",
            "Epoch 37/300\n",
            "2436/2436 [==============================] - 3s 1ms/step - loss: 247.3712 - acc: 0.0000e+00 - val_loss: 205.7754 - val_acc: 0.0000e+00\n",
            "Epoch 38/300\n",
            "2436/2436 [==============================] - 3s 1ms/step - loss: 243.1975 - acc: 0.0000e+00 - val_loss: 214.2564 - val_acc: 0.0000e+00\n",
            "Epoch 39/300\n",
            "2436/2436 [==============================] - 3s 1ms/step - loss: 247.1344 - acc: 0.0000e+00 - val_loss: 241.9379 - val_acc: 0.0033\n",
            "Epoch 40/300\n",
            "2436/2436 [==============================] - 3s 1ms/step - loss: 238.6400 - acc: 0.0000e+00 - val_loss: 206.6672 - val_acc: 8.3333e-04\n",
            "Epoch 41/300\n",
            "2436/2436 [==============================] - 3s 1ms/step - loss: 240.7078 - acc: 4.1051e-04 - val_loss: 209.2082 - val_acc: 0.0000e+00\n",
            "Epoch 42/300\n",
            "2436/2436 [==============================] - 3s 1ms/step - loss: 246.8092 - acc: 8.2102e-04 - val_loss: 209.5062 - val_acc: 0.0000e+00\n",
            "Epoch 43/300\n",
            "2436/2436 [==============================] - 3s 1ms/step - loss: 240.8815 - acc: 0.0000e+00 - val_loss: 206.7159 - val_acc: 0.0000e+00\n",
            "Epoch 44/300\n",
            "2436/2436 [==============================] - 3s 1ms/step - loss: 244.8205 - acc: 0.0000e+00 - val_loss: 213.8582 - val_acc: 0.0000e+00\n",
            "Epoch 45/300\n",
            "2436/2436 [==============================] - 3s 1ms/step - loss: 246.8694 - acc: 4.1051e-04 - val_loss: 266.3704 - val_acc: 0.0000e+00\n",
            "Epoch 46/300\n",
            "2436/2436 [==============================] - 3s 1ms/step - loss: 241.1374 - acc: 4.1051e-04 - val_loss: 208.9670 - val_acc: 8.3333e-04\n",
            "Epoch 47/300\n",
            "2436/2436 [==============================] - 3s 1ms/step - loss: 246.5629 - acc: 0.0000e+00 - val_loss: 223.8546 - val_acc: 0.0000e+00\n",
            "Epoch 48/300\n",
            "2436/2436 [==============================] - 3s 1ms/step - loss: 240.5420 - acc: 4.1051e-04 - val_loss: 206.3505 - val_acc: 0.0025\n",
            "Epoch 49/300\n",
            "2436/2436 [==============================] - 3s 1ms/step - loss: 245.1514 - acc: 4.1051e-04 - val_loss: 228.0617 - val_acc: 0.0000e+00\n",
            "Epoch 50/300\n",
            "2436/2436 [==============================] - 3s 1ms/step - loss: 238.3288 - acc: 8.2102e-04 - val_loss: 267.0417 - val_acc: 0.0000e+00\n",
            "Epoch 51/300\n",
            "2436/2436 [==============================] - 3s 1ms/step - loss: 241.6053 - acc: 4.1051e-04 - val_loss: 223.6449 - val_acc: 0.0000e+00\n",
            "Epoch 52/300\n",
            "2436/2436 [==============================] - 3s 1ms/step - loss: 238.5408 - acc: 0.0000e+00 - val_loss: 212.4419 - val_acc: 0.0000e+00\n",
            "Epoch 53/300\n",
            "2436/2436 [==============================] - 3s 1ms/step - loss: 254.1926 - acc: 0.0012 - val_loss: 218.4259 - val_acc: 0.0000e+00\n",
            "Epoch 54/300\n",
            "2436/2436 [==============================] - 3s 1ms/step - loss: 233.9120 - acc: 0.0000e+00 - val_loss: 207.2870 - val_acc: 0.0000e+00\n",
            "Epoch 55/300\n",
            "2436/2436 [==============================] - 3s 1ms/step - loss: 240.9764 - acc: 4.1051e-04 - val_loss: 208.9791 - val_acc: 0.0000e+00\n",
            "Epoch 56/300\n",
            "2436/2436 [==============================] - 3s 1ms/step - loss: 245.9814 - acc: 4.1051e-04 - val_loss: 224.8850 - val_acc: 0.0017\n",
            "Epoch 57/300\n",
            "2436/2436 [==============================] - 3s 1ms/step - loss: 233.6545 - acc: 4.1051e-04 - val_loss: 206.7366 - val_acc: 8.3333e-04\n",
            "Epoch 58/300\n",
            "2436/2436 [==============================] - 3s 1ms/step - loss: 242.1888 - acc: 0.0000e+00 - val_loss: 208.8556 - val_acc: 0.0000e+00\n",
            "Epoch 59/300\n",
            "2436/2436 [==============================] - 3s 1ms/step - loss: 241.3337 - acc: 4.1051e-04 - val_loss: 208.1611 - val_acc: 8.3333e-04\n",
            "Epoch 60/300\n",
            "2436/2436 [==============================] - 3s 1ms/step - loss: 242.7335 - acc: 8.2102e-04 - val_loss: 211.9289 - val_acc: 0.0033\n",
            "Epoch 61/300\n",
            "2436/2436 [==============================] - 3s 1ms/step - loss: 243.5469 - acc: 4.1051e-04 - val_loss: 209.4351 - val_acc: 0.0000e+00\n",
            "Epoch 62/300\n",
            "2436/2436 [==============================] - 3s 1ms/step - loss: 236.3065 - acc: 4.1051e-04 - val_loss: 204.9659 - val_acc: 0.0000e+00\n",
            "Epoch 63/300\n",
            "2436/2436 [==============================] - 3s 1ms/step - loss: 241.9707 - acc: 0.0000e+00 - val_loss: 212.3950 - val_acc: 0.0000e+00\n",
            "Epoch 64/300\n",
            "2436/2436 [==============================] - 3s 1ms/step - loss: 238.3097 - acc: 0.0000e+00 - val_loss: 207.8588 - val_acc: 8.3333e-04\n",
            "Epoch 65/300\n",
            "2436/2436 [==============================] - 3s 1ms/step - loss: 243.1476 - acc: 0.0000e+00 - val_loss: 227.7890 - val_acc: 0.0000e+00\n",
            "Epoch 66/300\n",
            "2436/2436 [==============================] - 3s 1ms/step - loss: 241.7514 - acc: 4.1051e-04 - val_loss: 254.6887 - val_acc: 0.0000e+00\n",
            "Epoch 67/300\n",
            "2436/2436 [==============================] - 3s 1ms/step - loss: 239.8314 - acc: 4.1051e-04 - val_loss: 342.8176 - val_acc: 0.0025\n",
            "Epoch 68/300\n",
            "2436/2436 [==============================] - 3s 1ms/step - loss: 246.6552 - acc: 0.0000e+00 - val_loss: 211.8309 - val_acc: 0.0000e+00\n",
            "Epoch 69/300\n",
            "2436/2436 [==============================] - 3s 1ms/step - loss: 245.4886 - acc: 0.0000e+00 - val_loss: 221.5082 - val_acc: 0.0000e+00\n",
            "Epoch 70/300\n",
            "2436/2436 [==============================] - 3s 1ms/step - loss: 251.2834 - acc: 4.1051e-04 - val_loss: 209.9966 - val_acc: 8.3333e-04\n",
            "Epoch 71/300\n",
            "2436/2436 [==============================] - 3s 1ms/step - loss: 233.2871 - acc: 4.1051e-04 - val_loss: 203.9249 - val_acc: 0.0000e+00\n",
            "Epoch 72/300\n",
            "2436/2436 [==============================] - 3s 1ms/step - loss: 250.0987 - acc: 0.0000e+00 - val_loss: 210.7589 - val_acc: 0.0000e+00\n",
            "Epoch 73/300\n",
            "2436/2436 [==============================] - 3s 1ms/step - loss: 235.2353 - acc: 8.2102e-04 - val_loss: 232.9719 - val_acc: 0.0000e+00\n",
            "Epoch 74/300\n",
            "2436/2436 [==============================] - 3s 1ms/step - loss: 242.7743 - acc: 0.0000e+00 - val_loss: 207.9784 - val_acc: 8.3333e-04\n",
            "Epoch 75/300\n",
            "2436/2436 [==============================] - 3s 1ms/step - loss: 245.5861 - acc: 4.1051e-04 - val_loss: 214.2501 - val_acc: 0.0000e+00\n",
            "Epoch 76/300\n",
            "2436/2436 [==============================] - 3s 1ms/step - loss: 243.4058 - acc: 0.0000e+00 - val_loss: 209.3460 - val_acc: 8.3333e-04\n",
            "Epoch 77/300\n",
            "2436/2436 [==============================] - 3s 1ms/step - loss: 241.7066 - acc: 0.0000e+00 - val_loss: 210.3106 - val_acc: 0.0000e+00\n",
            "Epoch 78/300\n",
            "2436/2436 [==============================] - 3s 1ms/step - loss: 243.7017 - acc: 4.1051e-04 - val_loss: 213.7616 - val_acc: 0.0000e+00\n",
            "Epoch 79/300\n",
            "2436/2436 [==============================] - 3s 1ms/step - loss: 250.4855 - acc: 8.2102e-04 - val_loss: 207.3037 - val_acc: 0.0000e+00\n",
            "Epoch 80/300\n",
            "2436/2436 [==============================] - 3s 1ms/step - loss: 241.8820 - acc: 8.2102e-04 - val_loss: 216.4682 - val_acc: 0.0000e+00\n",
            "Epoch 81/300\n",
            "2436/2436 [==============================] - 3s 1ms/step - loss: 241.8123 - acc: 0.0000e+00 - val_loss: 214.5102 - val_acc: 0.0000e+00\n",
            "Epoch 82/300\n",
            "2436/2436 [==============================] - 3s 1ms/step - loss: 239.1950 - acc: 4.1051e-04 - val_loss: 229.1774 - val_acc: 0.0000e+00\n",
            "Epoch 83/300\n",
            "2436/2436 [==============================] - 3s 1ms/step - loss: 241.1609 - acc: 0.0000e+00 - val_loss: 212.0204 - val_acc: 0.0000e+00\n",
            "Epoch 84/300\n",
            "2436/2436 [==============================] - 3s 1ms/step - loss: 248.1167 - acc: 8.2102e-04 - val_loss: 208.3700 - val_acc: 8.3333e-04\n",
            "Epoch 85/300\n",
            "2436/2436 [==============================] - 3s 1ms/step - loss: 240.5673 - acc: 0.0000e+00 - val_loss: 207.6585 - val_acc: 0.0000e+00\n",
            "Epoch 86/300\n",
            "2436/2436 [==============================] - 3s 1ms/step - loss: 240.5582 - acc: 0.0000e+00 - val_loss: 213.7755 - val_acc: 0.0000e+00\n",
            "Epoch 87/300\n",
            "2436/2436 [==============================] - 3s 1ms/step - loss: 241.8008 - acc: 4.1051e-04 - val_loss: 212.6329 - val_acc: 0.0000e+00\n",
            "Epoch 88/300\n",
            "2436/2436 [==============================] - 3s 1ms/step - loss: 243.9483 - acc: 0.0012 - val_loss: 226.3667 - val_acc: 0.0000e+00\n",
            "Epoch 89/300\n",
            "2436/2436 [==============================] - 3s 1ms/step - loss: 240.2547 - acc: 4.1051e-04 - val_loss: 209.5028 - val_acc: 0.0000e+00\n",
            "Epoch 90/300\n",
            "2436/2436 [==============================] - 3s 1ms/step - loss: 240.7443 - acc: 0.0000e+00 - val_loss: 217.4510 - val_acc: 0.0000e+00\n",
            "Epoch 91/300\n",
            "2436/2436 [==============================] - 3s 1ms/step - loss: 253.3090 - acc: 4.1051e-04 - val_loss: 219.7615 - val_acc: 0.0000e+00\n",
            "Epoch 92/300\n",
            "2436/2436 [==============================] - 3s 1ms/step - loss: 252.9178 - acc: 0.0000e+00 - val_loss: 210.1049 - val_acc: 8.3333e-04\n",
            "Epoch 93/300\n",
            "2436/2436 [==============================] - 3s 1ms/step - loss: 252.7107 - acc: 0.0012 - val_loss: 210.9100 - val_acc: 0.0000e+00\n",
            "Epoch 94/300\n",
            "2436/2436 [==============================] - 3s 1ms/step - loss: 231.7849 - acc: 0.0016 - val_loss: 217.9853 - val_acc: 8.3333e-04\n",
            "Epoch 95/300\n",
            "2436/2436 [==============================] - 3s 1ms/step - loss: 242.3760 - acc: 4.1051e-04 - val_loss: 216.9616 - val_acc: 0.0000e+00\n",
            "Epoch 96/300\n",
            "2436/2436 [==============================] - 3s 1ms/step - loss: 249.1236 - acc: 0.0000e+00 - val_loss: 218.2701 - val_acc: 0.0000e+00\n",
            "Epoch 97/300\n",
            "2436/2436 [==============================] - 3s 1ms/step - loss: 240.3091 - acc: 4.1051e-04 - val_loss: 211.1096 - val_acc: 0.0000e+00\n",
            "Epoch 98/300\n",
            "2436/2436 [==============================] - 3s 1ms/step - loss: 239.3160 - acc: 4.1051e-04 - val_loss: 210.9040 - val_acc: 0.0000e+00\n",
            "Epoch 99/300\n",
            "2436/2436 [==============================] - 3s 1ms/step - loss: 235.0629 - acc: 4.1051e-04 - val_loss: 209.4741 - val_acc: 0.0000e+00\n",
            "Epoch 100/300\n",
            "2436/2436 [==============================] - 3s 1ms/step - loss: 242.0001 - acc: 8.2102e-04 - val_loss: 212.6698 - val_acc: 8.3333e-04\n",
            "Epoch 101/300\n",
            "2436/2436 [==============================] - 3s 1ms/step - loss: 241.5232 - acc: 0.0000e+00 - val_loss: 213.6078 - val_acc: 8.3333e-04\n",
            "Epoch 102/300\n",
            "2436/2436 [==============================] - 3s 1ms/step - loss: 247.7738 - acc: 0.0000e+00 - val_loss: 212.5773 - val_acc: 0.0000e+00\n",
            "Epoch 103/300\n",
            "2436/2436 [==============================] - 3s 1ms/step - loss: 236.9588 - acc: 0.0000e+00 - val_loss: 209.3656 - val_acc: 8.3333e-04\n",
            "Epoch 104/300\n",
            "2436/2436 [==============================] - 3s 1ms/step - loss: 247.3101 - acc: 0.0000e+00 - val_loss: 209.2275 - val_acc: 0.0000e+00\n",
            "Epoch 105/300\n",
            "2436/2436 [==============================] - 3s 1ms/step - loss: 247.4349 - acc: 0.0000e+00 - val_loss: 219.4245 - val_acc: 0.0000e+00\n",
            "Epoch 106/300\n",
            "2436/2436 [==============================] - 3s 1ms/step - loss: 241.5783 - acc: 0.0000e+00 - val_loss: 233.8834 - val_acc: 0.0000e+00\n",
            "Epoch 107/300\n",
            "2436/2436 [==============================] - 3s 1ms/step - loss: 245.5759 - acc: 8.2102e-04 - val_loss: 208.6515 - val_acc: 0.0000e+00\n",
            "Epoch 108/300\n",
            "2436/2436 [==============================] - 3s 1ms/step - loss: 238.1062 - acc: 0.0000e+00 - val_loss: 217.8566 - val_acc: 8.3333e-04\n",
            "Epoch 109/300\n",
            "2436/2436 [==============================] - 3s 1ms/step - loss: 246.6595 - acc: 0.0000e+00 - val_loss: 206.9803 - val_acc: 0.0000e+00\n",
            "Epoch 110/300\n",
            "2436/2436 [==============================] - 3s 1ms/step - loss: 244.6991 - acc: 4.1051e-04 - val_loss: 206.9282 - val_acc: 0.0000e+00\n",
            "Epoch 111/300\n",
            "2436/2436 [==============================] - 3s 1ms/step - loss: 246.5125 - acc: 8.2102e-04 - val_loss: 255.6309 - val_acc: 0.0000e+00\n",
            "Epoch 112/300\n",
            "2436/2436 [==============================] - 3s 1ms/step - loss: 245.9335 - acc: 4.1051e-04 - val_loss: 216.4879 - val_acc: 0.0000e+00\n",
            "Epoch 113/300\n",
            "2436/2436 [==============================] - 3s 1ms/step - loss: 243.0180 - acc: 8.2102e-04 - val_loss: 204.6356 - val_acc: 0.0000e+00\n",
            "Epoch 114/300\n",
            "2436/2436 [==============================] - 3s 1ms/step - loss: 243.7142 - acc: 4.1051e-04 - val_loss: 207.2034 - val_acc: 0.0000e+00\n",
            "Epoch 115/300\n",
            "2436/2436 [==============================] - 3s 1ms/step - loss: 240.4060 - acc: 0.0000e+00 - val_loss: 266.6107 - val_acc: 8.3333e-04\n",
            "Epoch 116/300\n",
            "2436/2436 [==============================] - 3s 1ms/step - loss: 239.3921 - acc: 4.1051e-04 - val_loss: 210.9168 - val_acc: 0.0000e+00\n",
            "Epoch 117/300\n",
            "2436/2436 [==============================] - 3s 1ms/step - loss: 241.6441 - acc: 0.0000e+00 - val_loss: 220.9865 - val_acc: 8.3333e-04\n",
            "Epoch 118/300\n",
            "2436/2436 [==============================] - 3s 1ms/step - loss: 244.2388 - acc: 4.1051e-04 - val_loss: 207.8076 - val_acc: 0.0025\n",
            "Epoch 119/300\n",
            "2436/2436 [==============================] - 3s 1ms/step - loss: 247.5195 - acc: 0.0012 - val_loss: 210.1779 - val_acc: 0.0000e+00\n",
            "Epoch 120/300\n",
            "2436/2436 [==============================] - 3s 1ms/step - loss: 243.6647 - acc: 0.0000e+00 - val_loss: 244.8179 - val_acc: 0.0000e+00\n",
            "Epoch 121/300\n",
            "2436/2436 [==============================] - 3s 1ms/step - loss: 240.1933 - acc: 4.1051e-04 - val_loss: 238.9105 - val_acc: 0.0000e+00\n",
            "Epoch 122/300\n",
            "2436/2436 [==============================] - 3s 1ms/step - loss: 241.3378 - acc: 4.1051e-04 - val_loss: 203.1449 - val_acc: 8.3333e-04\n",
            "Epoch 123/300\n",
            "2436/2436 [==============================] - 3s 1ms/step - loss: 246.9661 - acc: 0.0000e+00 - val_loss: 208.9968 - val_acc: 0.0000e+00\n",
            "Epoch 124/300\n",
            "2436/2436 [==============================] - 3s 1ms/step - loss: 240.8743 - acc: 0.0000e+00 - val_loss: 240.3032 - val_acc: 0.0017\n",
            "Epoch 125/300\n",
            "2436/2436 [==============================] - 3s 1ms/step - loss: 241.4806 - acc: 4.1051e-04 - val_loss: 202.4169 - val_acc: 8.3333e-04\n",
            "Epoch 126/300\n",
            "2436/2436 [==============================] - 3s 1ms/step - loss: 246.9569 - acc: 8.2102e-04 - val_loss: 217.6518 - val_acc: 0.0000e+00\n",
            "Epoch 127/300\n",
            "2436/2436 [==============================] - 3s 1ms/step - loss: 245.1612 - acc: 8.2102e-04 - val_loss: 248.4326 - val_acc: 8.3333e-04\n",
            "Epoch 128/300\n",
            "2436/2436 [==============================] - 3s 1ms/step - loss: 241.8867 - acc: 4.1051e-04 - val_loss: 213.2669 - val_acc: 0.0000e+00\n",
            "Epoch 129/300\n",
            "2436/2436 [==============================] - 3s 1ms/step - loss: 237.7741 - acc: 0.0000e+00 - val_loss: 213.0508 - val_acc: 0.0000e+00\n",
            "Epoch 130/300\n",
            "2436/2436 [==============================] - 3s 1ms/step - loss: 233.0122 - acc: 0.0000e+00 - val_loss: 203.1223 - val_acc: 0.0000e+00\n",
            "Epoch 131/300\n",
            "2436/2436 [==============================] - 3s 1ms/step - loss: 243.0981 - acc: 0.0012 - val_loss: 215.4282 - val_acc: 0.0000e+00\n",
            "Epoch 132/300\n",
            "2436/2436 [==============================] - 3s 1ms/step - loss: 239.1987 - acc: 4.1051e-04 - val_loss: 210.7636 - val_acc: 0.0000e+00\n",
            "Epoch 133/300\n",
            "2436/2436 [==============================] - 3s 1ms/step - loss: 249.2569 - acc: 0.0000e+00 - val_loss: 214.6159 - val_acc: 0.0000e+00\n",
            "Epoch 134/300\n",
            "2436/2436 [==============================] - 3s 1ms/step - loss: 240.8891 - acc: 4.1051e-04 - val_loss: 212.4879 - val_acc: 0.0000e+00\n",
            "Epoch 135/300\n",
            "2436/2436 [==============================] - 3s 1ms/step - loss: 237.4597 - acc: 4.1051e-04 - val_loss: 241.4645 - val_acc: 0.0000e+00\n",
            "Epoch 136/300\n",
            "2436/2436 [==============================] - 3s 1ms/step - loss: 234.9754 - acc: 4.1051e-04 - val_loss: 206.9984 - val_acc: 0.0000e+00\n",
            "Epoch 137/300\n",
            "2436/2436 [==============================] - 3s 1ms/step - loss: 238.5039 - acc: 8.2102e-04 - val_loss: 233.9843 - val_acc: 0.0000e+00\n",
            "Epoch 138/300\n",
            "2436/2436 [==============================] - 3s 1ms/step - loss: 241.5286 - acc: 0.0016 - val_loss: 248.9292 - val_acc: 0.0000e+00\n",
            "Epoch 139/300\n",
            "2436/2436 [==============================] - 3s 1ms/step - loss: 244.8481 - acc: 4.1051e-04 - val_loss: 209.6318 - val_acc: 0.0000e+00\n",
            "Epoch 140/300\n",
            "2436/2436 [==============================] - 3s 1ms/step - loss: 245.8631 - acc: 0.0000e+00 - val_loss: 209.0538 - val_acc: 8.3333e-04\n",
            "Epoch 141/300\n",
            "2436/2436 [==============================] - 3s 1ms/step - loss: 244.1071 - acc: 0.0000e+00 - val_loss: 207.1900 - val_acc: 0.0000e+00\n",
            "Epoch 142/300\n",
            "2436/2436 [==============================] - 3s 1ms/step - loss: 249.7741 - acc: 0.0000e+00 - val_loss: 210.5164 - val_acc: 8.3333e-04\n",
            "Epoch 143/300\n",
            "2436/2436 [==============================] - 3s 1ms/step - loss: 250.2048 - acc: 8.2102e-04 - val_loss: 207.9533 - val_acc: 0.0000e+00\n",
            "Epoch 144/300\n",
            "2436/2436 [==============================] - 3s 1ms/step - loss: 239.2104 - acc: 0.0016 - val_loss: 205.9447 - val_acc: 0.0000e+00\n",
            "Epoch 145/300\n",
            "2436/2436 [==============================] - 3s 1ms/step - loss: 238.6092 - acc: 4.1051e-04 - val_loss: 233.1786 - val_acc: 0.0017\n",
            "Epoch 146/300\n",
            "2436/2436 [==============================] - 3s 1ms/step - loss: 246.7674 - acc: 0.0000e+00 - val_loss: 254.4344 - val_acc: 0.0000e+00\n",
            "Epoch 147/300\n",
            "2436/2436 [==============================] - 3s 1ms/step - loss: 245.7412 - acc: 4.1051e-04 - val_loss: 211.5055 - val_acc: 0.0000e+00\n",
            "Epoch 148/300\n",
            "2436/2436 [==============================] - 3s 1ms/step - loss: 249.3544 - acc: 4.1051e-04 - val_loss: 209.0721 - val_acc: 0.0000e+00\n",
            "Epoch 149/300\n",
            "2436/2436 [==============================] - 3s 1ms/step - loss: 243.6311 - acc: 8.2102e-04 - val_loss: 208.6720 - val_acc: 0.0000e+00\n",
            "Epoch 150/300\n",
            "2436/2436 [==============================] - 3s 1ms/step - loss: 241.2942 - acc: 0.0000e+00 - val_loss: 204.7277 - val_acc: 0.0000e+00\n",
            "Epoch 151/300\n",
            "2436/2436 [==============================] - 3s 1ms/step - loss: 237.9218 - acc: 0.0000e+00 - val_loss: 214.3486 - val_acc: 0.0000e+00\n",
            "Epoch 152/300\n",
            "2436/2436 [==============================] - 3s 1ms/step - loss: 238.9221 - acc: 0.0000e+00 - val_loss: 210.6623 - val_acc: 0.0000e+00\n",
            "Epoch 153/300\n",
            "2436/2436 [==============================] - 3s 1ms/step - loss: 245.2417 - acc: 4.1051e-04 - val_loss: 242.5970 - val_acc: 0.0000e+00\n",
            "Epoch 154/300\n",
            "2436/2436 [==============================] - 3s 1ms/step - loss: 242.4369 - acc: 4.1051e-04 - val_loss: 208.0067 - val_acc: 0.0000e+00\n",
            "Epoch 155/300\n",
            "2436/2436 [==============================] - 3s 1ms/step - loss: 246.2080 - acc: 0.0012 - val_loss: 244.2979 - val_acc: 0.0000e+00\n",
            "Epoch 156/300\n",
            "2436/2436 [==============================] - 3s 1ms/step - loss: 234.9299 - acc: 4.1051e-04 - val_loss: 209.4747 - val_acc: 0.0000e+00\n",
            "Epoch 157/300\n",
            "2436/2436 [==============================] - 3s 1ms/step - loss: 247.7873 - acc: 4.1051e-04 - val_loss: 228.5474 - val_acc: 0.0000e+00\n",
            "Epoch 158/300\n",
            "2436/2436 [==============================] - 3s 1ms/step - loss: 237.5873 - acc: 4.1051e-04 - val_loss: 201.2641 - val_acc: 8.3333e-04\n",
            "Epoch 159/300\n",
            "2436/2436 [==============================] - 3s 1ms/step - loss: 239.6842 - acc: 0.0000e+00 - val_loss: 211.6686 - val_acc: 0.0000e+00\n",
            "Epoch 160/300\n",
            "2436/2436 [==============================] - 3s 1ms/step - loss: 247.9894 - acc: 4.1051e-04 - val_loss: 207.2588 - val_acc: 0.0000e+00\n",
            "Epoch 161/300\n",
            "2436/2436 [==============================] - 3s 1ms/step - loss: 243.1772 - acc: 0.0000e+00 - val_loss: 209.0590 - val_acc: 0.0000e+00\n",
            "Epoch 162/300\n",
            "2436/2436 [==============================] - 3s 1ms/step - loss: 235.9698 - acc: 4.1051e-04 - val_loss: 219.0854 - val_acc: 8.3333e-04\n",
            "Epoch 163/300\n",
            "2436/2436 [==============================] - 3s 1ms/step - loss: 242.3729 - acc: 8.2102e-04 - val_loss: 230.7524 - val_acc: 0.0017\n",
            "Epoch 164/300\n",
            "2436/2436 [==============================] - 3s 1ms/step - loss: 246.6160 - acc: 0.0012 - val_loss: 211.3761 - val_acc: 8.3333e-04\n",
            "Epoch 165/300\n",
            "2436/2436 [==============================] - 3s 1ms/step - loss: 237.1790 - acc: 4.1051e-04 - val_loss: 206.2958 - val_acc: 0.0000e+00\n",
            "Epoch 166/300\n",
            "2436/2436 [==============================] - 3s 1ms/step - loss: 243.0851 - acc: 0.0000e+00 - val_loss: 281.6678 - val_acc: 0.0017\n",
            "Epoch 167/300\n",
            "2436/2436 [==============================] - 3s 1ms/step - loss: 250.8200 - acc: 0.0000e+00 - val_loss: 237.7397 - val_acc: 8.3333e-04\n",
            "Epoch 168/300\n",
            "2436/2436 [==============================] - 3s 1ms/step - loss: 242.0732 - acc: 0.0000e+00 - val_loss: 245.4358 - val_acc: 8.3333e-04\n",
            "Epoch 169/300\n",
            "2436/2436 [==============================] - 3s 1ms/step - loss: 247.8487 - acc: 4.1051e-04 - val_loss: 215.8002 - val_acc: 0.0000e+00\n",
            "Epoch 170/300\n",
            "2436/2436 [==============================] - 3s 1ms/step - loss: 243.9582 - acc: 0.0000e+00 - val_loss: 210.6345 - val_acc: 8.3333e-04\n",
            "Epoch 171/300\n",
            "2436/2436 [==============================] - 3s 1ms/step - loss: 239.8450 - acc: 4.1051e-04 - val_loss: 204.2891 - val_acc: 0.0000e+00\n",
            "Epoch 172/300\n",
            "2436/2436 [==============================] - 3s 1ms/step - loss: 238.5715 - acc: 4.1051e-04 - val_loss: 219.2990 - val_acc: 0.0000e+00\n",
            "Epoch 173/300\n",
            "2436/2436 [==============================] - 3s 1ms/step - loss: 239.5949 - acc: 4.1051e-04 - val_loss: 205.2095 - val_acc: 0.0017\n",
            "Epoch 174/300\n",
            "2436/2436 [==============================] - 3s 1ms/step - loss: 244.3445 - acc: 8.2102e-04 - val_loss: 210.7927 - val_acc: 8.3333e-04\n",
            "Epoch 175/300\n",
            "2436/2436 [==============================] - 3s 1ms/step - loss: 237.2347 - acc: 4.1051e-04 - val_loss: 212.8003 - val_acc: 0.0000e+00\n",
            "Epoch 176/300\n",
            "2436/2436 [==============================] - 3s 1ms/step - loss: 241.9590 - acc: 0.0012 - val_loss: 204.8538 - val_acc: 0.0000e+00\n",
            "Epoch 177/300\n",
            "2436/2436 [==============================] - 3s 1ms/step - loss: 245.0760 - acc: 8.2102e-04 - val_loss: 240.2590 - val_acc: 0.0000e+00\n",
            "Epoch 178/300\n",
            "2436/2436 [==============================] - 3s 1ms/step - loss: 240.2761 - acc: 8.2102e-04 - val_loss: 211.1591 - val_acc: 0.0000e+00\n",
            "Epoch 179/300\n",
            "2436/2436 [==============================] - 3s 1ms/step - loss: 243.8903 - acc: 8.2102e-04 - val_loss: 210.1159 - val_acc: 8.3333e-04\n",
            "Epoch 180/300\n",
            "2436/2436 [==============================] - 3s 1ms/step - loss: 236.5750 - acc: 8.2102e-04 - val_loss: 212.3469 - val_acc: 0.0017\n",
            "Epoch 181/300\n",
            "2436/2436 [==============================] - 3s 1ms/step - loss: 241.9835 - acc: 4.1051e-04 - val_loss: 211.2017 - val_acc: 0.0000e+00\n",
            "Epoch 182/300\n",
            "2436/2436 [==============================] - 3s 1ms/step - loss: 239.0801 - acc: 0.0000e+00 - val_loss: 224.6782 - val_acc: 8.3333e-04\n",
            "Epoch 183/300\n",
            "2436/2436 [==============================] - 3s 1ms/step - loss: 243.6899 - acc: 0.0000e+00 - val_loss: 207.1547 - val_acc: 0.0000e+00\n",
            "Epoch 184/300\n",
            "2436/2436 [==============================] - 3s 1ms/step - loss: 236.5721 - acc: 8.2102e-04 - val_loss: 207.4416 - val_acc: 0.0000e+00\n",
            "Epoch 185/300\n",
            "2436/2436 [==============================] - 3s 1ms/step - loss: 241.9363 - acc: 8.2102e-04 - val_loss: 211.2332 - val_acc: 0.0000e+00\n",
            "Epoch 186/300\n",
            "2436/2436 [==============================] - 3s 1ms/step - loss: 240.3232 - acc: 8.2102e-04 - val_loss: 212.8881 - val_acc: 8.3333e-04\n",
            "Epoch 187/300\n",
            "2436/2436 [==============================] - 3s 1ms/step - loss: 241.4816 - acc: 0.0000e+00 - val_loss: 228.8945 - val_acc: 0.0017\n",
            "Epoch 188/300\n",
            "2436/2436 [==============================] - 3s 1ms/step - loss: 243.4073 - acc: 0.0012 - val_loss: 211.4604 - val_acc: 8.3333e-04\n",
            "Epoch 189/300\n",
            "2436/2436 [==============================] - 3s 1ms/step - loss: 232.8364 - acc: 8.2102e-04 - val_loss: 208.6652 - val_acc: 0.0000e+00\n",
            "Epoch 190/300\n",
            "2436/2436 [==============================] - 3s 1ms/step - loss: 235.2428 - acc: 4.1051e-04 - val_loss: 215.8194 - val_acc: 8.3333e-04\n",
            "Epoch 191/300\n",
            "2436/2436 [==============================] - 3s 1ms/step - loss: 245.5985 - acc: 4.1051e-04 - val_loss: 228.4102 - val_acc: 0.0000e+00\n",
            "Epoch 192/300\n",
            "2436/2436 [==============================] - 3s 1ms/step - loss: 243.2525 - acc: 4.1051e-04 - val_loss: 218.2033 - val_acc: 0.0000e+00\n",
            "Epoch 193/300\n",
            "2436/2436 [==============================] - 3s 1ms/step - loss: 239.6964 - acc: 4.1051e-04 - val_loss: 212.0160 - val_acc: 0.0000e+00\n",
            "Epoch 194/300\n",
            "2436/2436 [==============================] - 3s 1ms/step - loss: 246.7324 - acc: 0.0000e+00 - val_loss: 241.6002 - val_acc: 0.0000e+00\n",
            "Epoch 195/300\n",
            "2436/2436 [==============================] - 3s 1ms/step - loss: 234.8243 - acc: 4.1051e-04 - val_loss: 214.0703 - val_acc: 0.0017\n",
            "Epoch 196/300\n",
            "2436/2436 [==============================] - 3s 1ms/step - loss: 242.9764 - acc: 0.0000e+00 - val_loss: 215.9891 - val_acc: 0.0000e+00\n",
            "Epoch 197/300\n",
            "2436/2436 [==============================] - 3s 1ms/step - loss: 235.6092 - acc: 8.2102e-04 - val_loss: 215.3053 - val_acc: 0.0000e+00\n",
            "Epoch 198/300\n",
            "2436/2436 [==============================] - 3s 1ms/step - loss: 242.2306 - acc: 0.0000e+00 - val_loss: 211.0819 - val_acc: 0.0017\n",
            "Epoch 199/300\n",
            "2436/2436 [==============================] - 3s 1ms/step - loss: 243.5367 - acc: 0.0000e+00 - val_loss: 215.2504 - val_acc: 0.0000e+00\n",
            "Epoch 200/300\n",
            "2436/2436 [==============================] - 3s 1ms/step - loss: 243.5234 - acc: 4.1051e-04 - val_loss: 207.8899 - val_acc: 0.0000e+00\n",
            "Epoch 201/300\n",
            "2436/2436 [==============================] - 3s 1ms/step - loss: 246.8778 - acc: 0.0000e+00 - val_loss: 210.3083 - val_acc: 0.0000e+00\n",
            "Epoch 202/300\n",
            "2436/2436 [==============================] - 3s 1ms/step - loss: 239.0716 - acc: 4.1051e-04 - val_loss: 222.9653 - val_acc: 0.0000e+00\n",
            "Epoch 203/300\n",
            "2436/2436 [==============================] - 3s 1ms/step - loss: 242.9057 - acc: 8.2102e-04 - val_loss: 215.2450 - val_acc: 0.0000e+00\n",
            "Epoch 204/300\n",
            "2436/2436 [==============================] - 3s 1ms/step - loss: 248.1537 - acc: 8.2102e-04 - val_loss: 209.3468 - val_acc: 8.3333e-04\n",
            "Epoch 205/300\n",
            "2436/2436 [==============================] - 3s 1ms/step - loss: 239.6810 - acc: 8.2102e-04 - val_loss: 235.4774 - val_acc: 8.3333e-04\n",
            "Epoch 206/300\n",
            "2436/2436 [==============================] - 3s 1ms/step - loss: 237.2310 - acc: 0.0000e+00 - val_loss: 205.5804 - val_acc: 8.3333e-04\n",
            "Epoch 207/300\n",
            "2436/2436 [==============================] - 3s 1ms/step - loss: 236.3259 - acc: 4.1051e-04 - val_loss: 206.8203 - val_acc: 0.0000e+00\n",
            "Epoch 208/300\n",
            "2436/2436 [==============================] - 3s 1ms/step - loss: 239.8591 - acc: 8.2102e-04 - val_loss: 213.8385 - val_acc: 0.0000e+00\n",
            "Epoch 209/300\n",
            "2436/2436 [==============================] - 3s 1ms/step - loss: 239.5784 - acc: 0.0000e+00 - val_loss: 243.8972 - val_acc: 0.0000e+00\n",
            "Epoch 210/300\n",
            "2436/2436 [==============================] - 3s 1ms/step - loss: 247.1242 - acc: 0.0000e+00 - val_loss: 208.1857 - val_acc: 8.3333e-04\n",
            "Epoch 211/300\n",
            "2436/2436 [==============================] - 3s 1ms/step - loss: 236.5883 - acc: 4.1051e-04 - val_loss: 210.1214 - val_acc: 0.0000e+00\n",
            "Epoch 212/300\n",
            "2436/2436 [==============================] - 3s 1ms/step - loss: 238.3740 - acc: 0.0000e+00 - val_loss: 213.8566 - val_acc: 8.3333e-04\n",
            "Epoch 213/300\n",
            "2436/2436 [==============================] - 3s 1ms/step - loss: 238.2764 - acc: 0.0000e+00 - val_loss: 217.9809 - val_acc: 0.0000e+00\n",
            "Epoch 214/300\n",
            "2436/2436 [==============================] - 3s 1ms/step - loss: 244.0325 - acc: 8.2102e-04 - val_loss: 218.8101 - val_acc: 8.3333e-04\n",
            "Epoch 215/300\n",
            "2436/2436 [==============================] - 3s 1ms/step - loss: 234.4982 - acc: 8.2102e-04 - val_loss: 206.0324 - val_acc: 8.3333e-04\n",
            "Epoch 216/300\n",
            "2436/2436 [==============================] - 3s 1ms/step - loss: 240.0923 - acc: 8.2102e-04 - val_loss: 206.6728 - val_acc: 0.0000e+00\n",
            "Epoch 217/300\n",
            "2436/2436 [==============================] - 3s 1ms/step - loss: 242.0110 - acc: 4.1051e-04 - val_loss: 207.4309 - val_acc: 8.3333e-04\n",
            "Epoch 218/300\n",
            "2436/2436 [==============================] - 3s 1ms/step - loss: 240.2965 - acc: 4.1051e-04 - val_loss: 217.2598 - val_acc: 8.3333e-04\n",
            "Epoch 219/300\n",
            "2436/2436 [==============================] - 3s 1ms/step - loss: 240.6649 - acc: 0.0000e+00 - val_loss: 212.3007 - val_acc: 0.0000e+00\n",
            "Epoch 220/300\n",
            "2436/2436 [==============================] - 3s 1ms/step - loss: 241.1324 - acc: 0.0000e+00 - val_loss: 208.0519 - val_acc: 8.3333e-04\n",
            "Epoch 221/300\n",
            "2436/2436 [==============================] - 3s 1ms/step - loss: 243.7598 - acc: 8.2102e-04 - val_loss: 204.5527 - val_acc: 0.0000e+00\n",
            "Epoch 222/300\n",
            "2436/2436 [==============================] - 3s 1ms/step - loss: 245.5070 - acc: 4.1051e-04 - val_loss: 209.5336 - val_acc: 0.0000e+00\n",
            "Epoch 223/300\n",
            "2436/2436 [==============================] - 3s 1ms/step - loss: 236.4235 - acc: 0.0000e+00 - val_loss: 231.5729 - val_acc: 0.0000e+00\n",
            "Epoch 224/300\n",
            "2436/2436 [==============================] - 3s 1ms/step - loss: 248.3511 - acc: 4.1051e-04 - val_loss: 215.2267 - val_acc: 0.0000e+00\n",
            "Epoch 225/300\n",
            "2436/2436 [==============================] - 3s 1ms/step - loss: 251.5793 - acc: 0.0000e+00 - val_loss: 212.7481 - val_acc: 0.0000e+00\n",
            "Epoch 226/300\n",
            "2436/2436 [==============================] - 3s 1ms/step - loss: 238.4755 - acc: 0.0000e+00 - val_loss: 218.5836 - val_acc: 8.3333e-04\n",
            "Epoch 227/300\n",
            "2436/2436 [==============================] - 3s 1ms/step - loss: 246.8690 - acc: 0.0000e+00 - val_loss: 205.8044 - val_acc: 0.0000e+00\n",
            "Epoch 228/300\n",
            "2436/2436 [==============================] - 3s 1ms/step - loss: 250.4591 - acc: 0.0000e+00 - val_loss: 223.2810 - val_acc: 8.3333e-04\n",
            "Epoch 229/300\n",
            "2436/2436 [==============================] - 3s 1ms/step - loss: 240.8547 - acc: 0.0000e+00 - val_loss: 209.3040 - val_acc: 8.3333e-04\n",
            "Epoch 230/300\n",
            "2436/2436 [==============================] - 3s 1ms/step - loss: 243.7031 - acc: 4.1051e-04 - val_loss: 208.0651 - val_acc: 0.0000e+00\n",
            "Epoch 231/300\n",
            "2436/2436 [==============================] - 3s 1ms/step - loss: 243.8416 - acc: 4.1051e-04 - val_loss: 214.2464 - val_acc: 0.0000e+00\n",
            "Epoch 232/300\n",
            "2436/2436 [==============================] - 3s 1ms/step - loss: 248.0609 - acc: 0.0000e+00 - val_loss: 210.5874 - val_acc: 0.0000e+00\n",
            "Epoch 233/300\n",
            "2436/2436 [==============================] - 3s 1ms/step - loss: 242.5664 - acc: 0.0000e+00 - val_loss: 287.5351 - val_acc: 8.3333e-04\n",
            "Epoch 234/300\n",
            "2436/2436 [==============================] - 3s 1ms/step - loss: 245.6750 - acc: 8.2102e-04 - val_loss: 223.3328 - val_acc: 0.0000e+00\n",
            "Epoch 235/300\n",
            "2436/2436 [==============================] - 3s 1ms/step - loss: 239.2173 - acc: 4.1051e-04 - val_loss: 207.1061 - val_acc: 0.0000e+00\n",
            "Epoch 236/300\n",
            "2436/2436 [==============================] - 3s 1ms/step - loss: 239.9574 - acc: 0.0000e+00 - val_loss: 204.5108 - val_acc: 0.0017\n",
            "Epoch 237/300\n",
            "2436/2436 [==============================] - 3s 1ms/step - loss: 245.9206 - acc: 0.0000e+00 - val_loss: 245.3285 - val_acc: 8.3333e-04\n",
            "Epoch 238/300\n",
            "2436/2436 [==============================] - 3s 1ms/step - loss: 247.5644 - acc: 0.0000e+00 - val_loss: 220.7817 - val_acc: 0.0000e+00\n",
            "Epoch 239/300\n",
            "2436/2436 [==============================] - 3s 1ms/step - loss: 247.1309 - acc: 0.0000e+00 - val_loss: 236.1557 - val_acc: 0.0000e+00\n",
            "Epoch 240/300\n",
            "2436/2436 [==============================] - 3s 1ms/step - loss: 246.3556 - acc: 4.1051e-04 - val_loss: 207.1382 - val_acc: 0.0025\n",
            "Epoch 241/300\n",
            "2436/2436 [==============================] - 3s 1ms/step - loss: 238.7475 - acc: 0.0012 - val_loss: 210.4991 - val_acc: 0.0000e+00\n",
            "Epoch 242/300\n",
            "2436/2436 [==============================] - 3s 1ms/step - loss: 249.9456 - acc: 0.0000e+00 - val_loss: 208.8820 - val_acc: 8.3333e-04\n",
            "Epoch 243/300\n",
            "2436/2436 [==============================] - 3s 1ms/step - loss: 243.1854 - acc: 8.2102e-04 - val_loss: 231.8510 - val_acc: 0.0000e+00\n",
            "Epoch 244/300\n",
            "2436/2436 [==============================] - 3s 1ms/step - loss: 246.2172 - acc: 8.2102e-04 - val_loss: 220.8937 - val_acc: 0.0000e+00\n",
            "Epoch 245/300\n",
            "2436/2436 [==============================] - 3s 1ms/step - loss: 247.8051 - acc: 0.0000e+00 - val_loss: 212.9360 - val_acc: 8.3333e-04\n",
            "Epoch 246/300\n",
            "2436/2436 [==============================] - 3s 1ms/step - loss: 247.1021 - acc: 0.0000e+00 - val_loss: 214.1895 - val_acc: 0.0000e+00\n",
            "Epoch 247/300\n",
            "2436/2436 [==============================] - 3s 1ms/step - loss: 240.7467 - acc: 8.2102e-04 - val_loss: 212.9999 - val_acc: 0.0000e+00\n",
            "Epoch 248/300\n",
            "2436/2436 [==============================] - 3s 1ms/step - loss: 237.5890 - acc: 4.1051e-04 - val_loss: 214.5377 - val_acc: 0.0000e+00\n",
            "Epoch 249/300\n",
            "2436/2436 [==============================] - 3s 1ms/step - loss: 238.7537 - acc: 0.0000e+00 - val_loss: 209.2188 - val_acc: 0.0000e+00\n",
            "Epoch 250/300\n",
            "2436/2436 [==============================] - 3s 1ms/step - loss: 245.2172 - acc: 0.0000e+00 - val_loss: 213.2753 - val_acc: 0.0000e+00\n",
            "Epoch 251/300\n",
            "2436/2436 [==============================] - 3s 1ms/step - loss: 240.0030 - acc: 0.0000e+00 - val_loss: 220.6065 - val_acc: 8.3333e-04\n",
            "Epoch 252/300\n",
            "2436/2436 [==============================] - 3s 1ms/step - loss: 243.2537 - acc: 4.1051e-04 - val_loss: 205.7695 - val_acc: 0.0000e+00\n",
            "Epoch 253/300\n",
            "2436/2436 [==============================] - 3s 1ms/step - loss: 243.4532 - acc: 8.2102e-04 - val_loss: 206.0717 - val_acc: 0.0000e+00\n",
            "Epoch 254/300\n",
            "2436/2436 [==============================] - 3s 1ms/step - loss: 243.1093 - acc: 4.1051e-04 - val_loss: 209.6723 - val_acc: 0.0000e+00\n",
            "Epoch 255/300\n",
            "2436/2436 [==============================] - 3s 1ms/step - loss: 243.7865 - acc: 0.0000e+00 - val_loss: 212.4449 - val_acc: 0.0000e+00\n",
            "Epoch 256/300\n",
            "2436/2436 [==============================] - 3s 1ms/step - loss: 242.3599 - acc: 0.0000e+00 - val_loss: 206.9228 - val_acc: 8.3333e-04\n",
            "Epoch 257/300\n",
            "2436/2436 [==============================] - 3s 1ms/step - loss: 247.4256 - acc: 4.1051e-04 - val_loss: 226.2746 - val_acc: 0.0000e+00\n",
            "Epoch 258/300\n",
            "2436/2436 [==============================] - 3s 1ms/step - loss: 247.2848 - acc: 8.2102e-04 - val_loss: 211.4240 - val_acc: 0.0000e+00\n",
            "Epoch 259/300\n",
            "2436/2436 [==============================] - 3s 1ms/step - loss: 236.6286 - acc: 0.0000e+00 - val_loss: 204.8968 - val_acc: 0.0000e+00\n",
            "Epoch 260/300\n",
            "2436/2436 [==============================] - 3s 1ms/step - loss: 239.4431 - acc: 4.1051e-04 - val_loss: 223.6523 - val_acc: 0.0000e+00\n",
            "Epoch 261/300\n",
            "2436/2436 [==============================] - 3s 1ms/step - loss: 230.9231 - acc: 8.2102e-04 - val_loss: 205.9245 - val_acc: 8.3333e-04\n",
            "Epoch 262/300\n",
            "2436/2436 [==============================] - 3s 1ms/step - loss: 240.2586 - acc: 0.0000e+00 - val_loss: 202.4842 - val_acc: 0.0000e+00\n",
            "Epoch 263/300\n",
            "2436/2436 [==============================] - 3s 1ms/step - loss: 233.2630 - acc: 4.1051e-04 - val_loss: 206.0546 - val_acc: 0.0000e+00\n",
            "Epoch 264/300\n",
            "2436/2436 [==============================] - 3s 1ms/step - loss: 236.6375 - acc: 4.1051e-04 - val_loss: 224.8060 - val_acc: 0.0000e+00\n",
            "Epoch 265/300\n",
            "2436/2436 [==============================] - 3s 1ms/step - loss: 236.9907 - acc: 4.1051e-04 - val_loss: 214.1802 - val_acc: 0.0000e+00\n",
            "Epoch 266/300\n",
            "2436/2436 [==============================] - 3s 1ms/step - loss: 239.0558 - acc: 4.1051e-04 - val_loss: 205.3011 - val_acc: 0.0000e+00\n",
            "Epoch 267/300\n",
            "2436/2436 [==============================] - 3s 1ms/step - loss: 234.7954 - acc: 4.1051e-04 - val_loss: 208.3121 - val_acc: 0.0000e+00\n",
            "Epoch 268/300\n",
            "2436/2436 [==============================] - 3s 1ms/step - loss: 244.7974 - acc: 0.0000e+00 - val_loss: 205.4081 - val_acc: 0.0000e+00\n",
            "Epoch 269/300\n",
            "2436/2436 [==============================] - 3s 1ms/step - loss: 240.5051 - acc: 4.1051e-04 - val_loss: 207.5140 - val_acc: 0.0000e+00\n",
            "Epoch 270/300\n",
            "2436/2436 [==============================] - 3s 1ms/step - loss: 246.7660 - acc: 4.1051e-04 - val_loss: 205.3632 - val_acc: 0.0000e+00\n",
            "Epoch 271/300\n",
            "2436/2436 [==============================] - 3s 1ms/step - loss: 240.0209 - acc: 4.1051e-04 - val_loss: 215.0337 - val_acc: 8.3333e-04\n",
            "Epoch 272/300\n",
            "2436/2436 [==============================] - 3s 1ms/step - loss: 242.8579 - acc: 4.1051e-04 - val_loss: 204.8700 - val_acc: 0.0000e+00\n",
            "Epoch 273/300\n",
            "2436/2436 [==============================] - 3s 1ms/step - loss: 241.8724 - acc: 4.1051e-04 - val_loss: 234.0388 - val_acc: 0.0000e+00\n",
            "Epoch 274/300\n",
            "2436/2436 [==============================] - 3s 1ms/step - loss: 238.1401 - acc: 4.1051e-04 - val_loss: 206.4546 - val_acc: 0.0000e+00\n",
            "Epoch 275/300\n",
            "2436/2436 [==============================] - 3s 1ms/step - loss: 240.0852 - acc: 0.0000e+00 - val_loss: 204.9517 - val_acc: 8.3333e-04\n",
            "Epoch 276/300\n",
            "2436/2436 [==============================] - 3s 1ms/step - loss: 243.6382 - acc: 0.0000e+00 - val_loss: 202.9868 - val_acc: 0.0000e+00\n",
            "Epoch 277/300\n",
            "2436/2436 [==============================] - 3s 1ms/step - loss: 240.3782 - acc: 8.2102e-04 - val_loss: 207.0076 - val_acc: 0.0000e+00\n",
            "Epoch 278/300\n",
            "2436/2436 [==============================] - 3s 1ms/step - loss: 247.2458 - acc: 8.2102e-04 - val_loss: 205.9818 - val_acc: 0.0000e+00\n",
            "Epoch 279/300\n",
            "2436/2436 [==============================] - 3s 1ms/step - loss: 240.9026 - acc: 0.0000e+00 - val_loss: 211.9602 - val_acc: 0.0000e+00\n",
            "Epoch 280/300\n",
            "2436/2436 [==============================] - 3s 1ms/step - loss: 250.0483 - acc: 0.0000e+00 - val_loss: 214.4598 - val_acc: 0.0000e+00\n",
            "Epoch 281/300\n",
            "2436/2436 [==============================] - 3s 1ms/step - loss: 243.8811 - acc: 0.0000e+00 - val_loss: 211.5906 - val_acc: 0.0000e+00\n",
            "Epoch 282/300\n",
            "2436/2436 [==============================] - 3s 1ms/step - loss: 238.8020 - acc: 0.0000e+00 - val_loss: 210.7686 - val_acc: 8.3333e-04\n",
            "Epoch 283/300\n",
            "2436/2436 [==============================] - 3s 1ms/step - loss: 241.3678 - acc: 8.2102e-04 - val_loss: 220.2854 - val_acc: 0.0017\n",
            "Epoch 284/300\n",
            "2436/2436 [==============================] - 3s 1ms/step - loss: 238.0135 - acc: 4.1051e-04 - val_loss: 207.8892 - val_acc: 8.3333e-04\n",
            "Epoch 285/300\n",
            "2436/2436 [==============================] - 3s 1ms/step - loss: 242.0779 - acc: 0.0000e+00 - val_loss: 221.4061 - val_acc: 0.0000e+00\n",
            "Epoch 286/300\n",
            "2436/2436 [==============================] - 3s 1ms/step - loss: 240.3421 - acc: 8.2102e-04 - val_loss: 214.5076 - val_acc: 8.3333e-04\n",
            "Epoch 287/300\n",
            "2436/2436 [==============================] - 3s 1ms/step - loss: 243.2598 - acc: 4.1051e-04 - val_loss: 212.8753 - val_acc: 0.0000e+00\n",
            "Epoch 288/300\n",
            "2436/2436 [==============================] - 3s 1ms/step - loss: 249.3572 - acc: 0.0000e+00 - val_loss: 230.6744 - val_acc: 0.0017\n",
            "Epoch 289/300\n",
            "2436/2436 [==============================] - 3s 1ms/step - loss: 241.9043 - acc: 0.0000e+00 - val_loss: 211.7403 - val_acc: 0.0000e+00\n",
            "Epoch 290/300\n",
            "2436/2436 [==============================] - 3s 1ms/step - loss: 243.0945 - acc: 0.0000e+00 - val_loss: 229.1763 - val_acc: 8.3333e-04\n",
            "Epoch 291/300\n",
            "2436/2436 [==============================] - 3s 1ms/step - loss: 242.7399 - acc: 0.0000e+00 - val_loss: 281.8111 - val_acc: 8.3333e-04\n",
            "Epoch 292/300\n",
            "2436/2436 [==============================] - 3s 1ms/step - loss: 245.0945 - acc: 0.0000e+00 - val_loss: 230.7621 - val_acc: 0.0000e+00\n",
            "Epoch 293/300\n",
            "2436/2436 [==============================] - 3s 1ms/step - loss: 238.1769 - acc: 0.0000e+00 - val_loss: 220.3266 - val_acc: 8.3333e-04\n",
            "Epoch 294/300\n",
            "2436/2436 [==============================] - 3s 1ms/step - loss: 236.3167 - acc: 4.1051e-04 - val_loss: 204.1916 - val_acc: 0.0000e+00\n",
            "Epoch 295/300\n",
            "2436/2436 [==============================] - 3s 1ms/step - loss: 241.3502 - acc: 8.2102e-04 - val_loss: 217.6073 - val_acc: 0.0000e+00\n",
            "Epoch 296/300\n",
            "2436/2436 [==============================] - 3s 1ms/step - loss: 245.1976 - acc: 0.0000e+00 - val_loss: 220.5637 - val_acc: 0.0000e+00\n",
            "Epoch 297/300\n",
            "2436/2436 [==============================] - 3s 1ms/step - loss: 247.9020 - acc: 4.1051e-04 - val_loss: 219.3908 - val_acc: 0.0000e+00\n",
            "Epoch 298/300\n",
            "2436/2436 [==============================] - 3s 1ms/step - loss: 237.0800 - acc: 4.1051e-04 - val_loss: 208.2386 - val_acc: 0.0000e+00\n",
            "Epoch 299/300\n",
            "2436/2436 [==============================] - 3s 1ms/step - loss: 239.6466 - acc: 0.0000e+00 - val_loss: 208.5472 - val_acc: 0.0000e+00\n",
            "Epoch 300/300\n",
            "2436/2436 [==============================] - 3s 1ms/step - loss: 241.2508 - acc: 8.2102e-04 - val_loss: 214.1143 - val_acc: 0.0000e+00\n"
          ],
          "name": "stdout"
        }
      ]
    },
    {
      "cell_type": "code",
      "metadata": {
        "id": "zMk4-skAYw9v",
        "colab_type": "code",
        "outputId": "ee2703cb-b8a1-4c0d-f945-ccac3f548454",
        "colab": {
          "base_uri": "https://localhost:8080/",
          "height": 487
        }
      },
      "source": [
        "###########################################\n",
        "# Step 4: Model Prediction\n",
        "#############################################\n",
        "out = model.predict(test_data[:,:2])\n",
        "print(out)"
      ],
      "execution_count": 15,
      "outputs": [
        {
          "output_type": "stream",
          "text": [
            "[[ 6205.791 ]\n",
            " [ 5988.867 ]\n",
            " [ 7042.1426]\n",
            " [ 5779.526 ]\n",
            " [ 6795.984 ]\n",
            " [ 7991.209 ]\n",
            " [ 5577.502 ]\n",
            " [ 6558.436 ]\n",
            " [ 7711.883 ]\n",
            " [ 9068.188 ]\n",
            " [ 5382.54  ]\n",
            " [ 6329.1855]\n",
            " [ 7442.3135]\n",
            " [ 8751.209 ]\n",
            " [10290.314 ]\n",
            " [ 5194.3926]\n",
            " [ 6107.948 ]\n",
            " [ 7182.1665]\n",
            " [ 8445.311 ]\n",
            " [ 9930.605 ]\n",
            " [11677.135 ]\n",
            " [ 5012.8223]\n",
            " [ 5894.4443]\n",
            " [ 6931.12  ]\n",
            " [ 8150.1113]\n",
            " [ 9583.49  ]\n",
            " [11268.96  ]\n",
            " [13250.856 ]]\n"
          ],
          "name": "stdout"
        }
      ]
    },
    {
      "cell_type": "code",
      "metadata": {
        "id": "aJ22N70mudXs",
        "colab_type": "code",
        "outputId": "a4cddb46-0991-4a88-c67e-fcba545cbcd1",
        "colab": {
          "base_uri": "https://localhost:8080/",
          "height": 34
        }
      },
      "source": [
        "out.shape"
      ],
      "execution_count": 16,
      "outputs": [
        {
          "output_type": "execute_result",
          "data": {
            "text/plain": [
              "(28, 1)"
            ]
          },
          "metadata": {
            "tags": []
          },
          "execution_count": 16
        }
      ]
    },
    {
      "cell_type": "code",
      "metadata": {
        "id": "ILFZ18quY_bh",
        "colab_type": "code",
        "outputId": "344772d9-808a-42c1-8fa7-652d72d61fc3",
        "colab": {
          "base_uri": "https://localhost:8080/",
          "height": 34
        }
      },
      "source": [
        "#################################\n",
        "# Step 5 : Reserve calculation\n",
        "#################################\n",
        "\n",
        "import matplotlib.pyplot as plt\n",
        "#print(' Test Data',test_data)\n",
        "#print('pred', model.predict([2,]))\n",
        "#print('C',C)\n",
        "true_reserve = 0\n",
        "for i in range(1,np.shape(triangle)[0]):\n",
        "    j = np.shape(triangle)[1]-1-i\n",
        "    #print(i,j)\n",
        "    #print('last known',C[i,j])\n",
        "    #print(' last estimate',C[i,np.shape(triangle)[1]-1])\n",
        "    true_reserve += (C[i,np.shape(triangle)[1]-1] - C[i,j])\n",
        "    #print(true_reserve)\n",
        "print(\" True reserve\",true_reserve)\n"
      ],
      "execution_count": 17,
      "outputs": [
        {
          "output_type": "stream",
          "text": [
            " True reserve 17352.0\n"
          ],
          "name": "stdout"
        }
      ]
    },
    {
      "cell_type": "code",
      "metadata": {
        "id": "yALeTUlwu9Pa",
        "colab_type": "code",
        "colab": {}
      },
      "source": [
        "appended= np.array(list(zip(test_data,np.ravel(out))))\n",
        "len(appended)\n",
        "\n",
        "out_dict = {}\n",
        "for i in range(len(appended)):\n",
        "    #print(tuple(appended[i,0][:2]))\n",
        "    #print(appended[i,1])\n",
        "    out_dict[tuple(appended[i,0][:2])] = appended[i,1]\n",
        "\n"
      ],
      "execution_count": 0,
      "outputs": []
    },
    {
      "cell_type": "code",
      "metadata": {
        "id": "twwPjcnsaZak",
        "colab_type": "code",
        "colab": {}
      },
      "source": [
        "pred_reserve = 0\n",
        "final_pred = []\n",
        "actuals = []\n",
        "for i in range(1,np.shape(triangle)[0]):\n",
        "    j = int(np.shape(triangle)[1]-1-i)    \n",
        "    #print(i,j)\n",
        "    #print('last known',C[i,j])\n",
        "    #print(' last pred', out_dict[(i,np.shape(triangle)[1]-1)])\n",
        "    #print(' last estimate',C[i,np.shape(triangle)[1]-1])\n",
        "    final_pred.append(out_dict[(i,np.shape(triangle)[1]-1)] - C[i,j])\n",
        "    actuals.append(C[i,np.shape(triangle)[1]-1] - C[i,j])\n",
        "    pred_reserve += (out_dict[(i,np.shape(triangle)[1]-1)] - C[i,j])"
      ],
      "execution_count": 0,
      "outputs": []
    },
    {
      "cell_type": "code",
      "metadata": {
        "id": "wHbisDFKTe6v",
        "colab_type": "code",
        "colab": {}
      },
      "source": [
        "#find the predicted "
      ],
      "execution_count": 0,
      "outputs": []
    },
    {
      "cell_type": "code",
      "metadata": {
        "id": "n04VZ3tRbOIV",
        "colab_type": "code",
        "outputId": "6cef5a09-6b55-47c5-a502-56bd569a1edd",
        "colab": {
          "base_uri": "https://localhost:8080/",
          "height": 67
        }
      },
      "source": [
        "print(\" Predicted reserve\",pred_reserve)\n",
        "print(' Bias',pred_reserve - true_reserve)\n",
        "print(\"Bias perct:\",(pred_reserve-true_reserve)/true_reserve)\n"
      ],
      "execution_count": 21,
      "outputs": [
        {
          "output_type": "stream",
          "text": [
            " Predicted reserve 27365.63671875\n",
            " Bias 10013.63671875\n",
            "Bias perct: 0.5770883309560858\n"
          ],
          "name": "stdout"
        }
      ]
    },
    {
      "cell_type": "code",
      "metadata": {
        "id": "CCxfpFpQibdy",
        "colab_type": "code",
        "colab": {
          "base_uri": "https://localhost:8080/",
          "height": 283
        },
        "outputId": "41f8562f-f045-4a18-b1fb-f358b28bf0e9"
      },
      "source": [
        "#ploting the loss of Neural Network\n",
        "from matplotlib import pyplot\n",
        "\n",
        "#training loss and validation loss\n",
        "pyplot.plot(history.history['loss'])\n",
        "pyplot.plot(history.history['val_loss'])\n",
        "pyplot.xlabel('epoch')\n",
        "pyplot.ylabel('loss')\n",
        "pyplot.legend(['train','validation'],loc='upper right')\n",
        "pyplot.show()"
      ],
      "execution_count": 24,
      "outputs": [
        {
          "output_type": "display_data",
          "data": {
            "image/png": "[encoded data removed]",
            "text/plain": [
              "<Figure size 432x288 with 1 Axes>"
            ]
          },
          "metadata": {
            "tags": []
          }
        }
      ]
    },
    {
      "cell_type": "code",
      "metadata": {
        "id": "IB8TWgU31Y-u",
        "colab_type": "code",
        "outputId": "ef8a73c7-049e-4880-dc72-d622d496a0a1",
        "colab": {
          "base_uri": "https://localhost:8080/",
          "height": 269
        }
      },
      "source": [
        "#plot showing predicted value vs actual value\n",
        "plt.figure()\n",
        "plt.plot(actuals, label = \"Test Originals\")\n",
        "plt.plot(final_pred, label =\"Test Predictions\")\n",
        "plt.ylabel(\"Reserve Value\")\n",
        "plt.legend()\n",
        "plt.show()\n"
      ],
      "execution_count": 22,
      "outputs": [
        {
          "output_type": "display_data",
          "data": {
            "image/png": "[encoded data removed]",
            "text/plain": [
              "<Figure size 432x288 with 1 Axes>"
            ]
          },
          "metadata": {
            "tags": []
          }
        }
      ]
    },
    {
      "cell_type": "code",
      "metadata": {
        "id": "CMcwWP171bbx",
        "colab_type": "code",
        "outputId": "ba89a805-9246-48fe-8ffb-835e8d9f3a37",
        "colab": {
          "base_uri": "https://localhost:8080/",
          "height": 286
        }
      },
      "source": [
        "#############################################\n",
        "# Step 6 : Not required but it is just error/prediction display for other values (accident and devlopment year combo)\n",
        "#######################################################\n",
        "\n",
        "from sklearn.metrics import mean_absolute_error as mae\n",
        "import matplotlib.pyplot as plt\n",
        "\n",
        "#print(\" Pred\", np.ravel(out))\n",
        "#print(\" Actual\", test_data[:,2])\n",
        "#print(\" Prediction      Actual\")\n",
        "#print(np.array(zip(np.ravel(out),test_data[:,2])))\n",
        "\n",
        "#plot for the predicted and the test lower triangle\n",
        "plt.plot(test_data[:,2],label='Test Value')\n",
        "plt.plot(out,label='Predicted Value')\n",
        "plt.legend()\n"
      ],
      "execution_count": 23,
      "outputs": [
        {
          "output_type": "execute_result",
          "data": {
            "text/plain": [
              "<matplotlib.legend.Legend at 0x7feecb046f60>"
            ]
          },
          "metadata": {
            "tags": []
          },
          "execution_count": 23
        },
        {
          "output_type": "display_data",
          "data": {
            "image/png": "[encoded data removed]",
            "text/plain": [
              "<Figure size 432x288 with 1 Axes>"
            ]
          },
          "metadata": {
            "tags": []
          }
        }
      ]
    },
    {
      "cell_type": "code",
      "metadata": {
        "id": "2ozy2GZh2Amt",
        "colab_type": "code",
        "colab": {}
      },
      "source": [
        ""
      ],
      "execution_count": 0,
      "outputs": []
    }
  ]
}