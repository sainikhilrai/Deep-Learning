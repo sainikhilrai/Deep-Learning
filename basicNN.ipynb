{
  "nbformat": 4,
  "nbformat_minor": 0,
  "metadata": {
    "colab": {
      "name": "basicNN.ipynb",
      "version": "0.3.2",
      "provenance": [],
      "collapsed_sections": [],
      "include_colab_link": true
    },
    "kernelspec": {
      "name": "python3",
      "display_name": "Python 3"
    }
  },
  "cells": [
    {
      "cell_type": "markdown",
      "metadata": {
        "id": "view-in-github",
        "colab_type": "text"
      },
      "source": [
        "<a href=\"https://colab.research.google.com/github/sainikhilrai/Deep-Learning/blob/master/basicNN.ipynb\" target=\"_parent\"><img src=\"https://colab.research.google.com/assets/colab-badge.svg\" alt=\"Open In Colab\"/></a>"
      ]
    },
    {
      "cell_type": "code",
      "metadata": {
        "id": "cENHDcM7SzJa",
        "colab_type": "code",
        "colab": {
          "base_uri": "https://localhost:8080/",
          "height": 156
        },
        "outputId": "b43f56df-4e8d-4505-930f-a5b8e80d8440"
      },
      "source": [
        "!pip install keras"
      ],
      "execution_count": 1,
      "outputs": [
        {
          "output_type": "stream",
          "text": [
            "Requirement already satisfied: keras in /usr/local/lib/python3.6/dist-packages (2.2.4)\n",
            "Requirement already satisfied: numpy>=1.9.1 in /usr/local/lib/python3.6/dist-packages (from keras) (1.16.4)\n",
            "Requirement already satisfied: h5py in /usr/local/lib/python3.6/dist-packages (from keras) (2.8.0)\n",
            "Requirement already satisfied: pyyaml in /usr/local/lib/python3.6/dist-packages (from keras) (3.13)\n",
            "Requirement already satisfied: scipy>=0.14 in /usr/local/lib/python3.6/dist-packages (from keras) (1.3.0)\n",
            "Requirement already satisfied: six>=1.9.0 in /usr/local/lib/python3.6/dist-packages (from keras) (1.12.0)\n",
            "Requirement already satisfied: keras-preprocessing>=1.0.5 in /usr/local/lib/python3.6/dist-packages (from keras) (1.0.9)\n",
            "Requirement already satisfied: keras-applications>=1.0.6 in /usr/local/lib/python3.6/dist-packages (from keras) (1.0.7)\n"
          ],
          "name": "stdout"
        }
      ]
    },
    {
      "cell_type": "code",
      "metadata": {
        "id": "FXDMGcUdTSgJ",
        "colab_type": "code",
        "colab": {
          "base_uri": "https://localhost:8080/",
          "height": 35
        },
        "outputId": "6b386e2c-e7e5-42b3-dd45-1fbb80346277"
      },
      "source": [
        "import keras"
      ],
      "execution_count": 2,
      "outputs": [
        {
          "output_type": "stream",
          "text": [
            "Using TensorFlow backend.\n"
          ],
          "name": "stderr"
        }
      ]
    },
    {
      "cell_type": "code",
      "metadata": {
        "id": "IYea24-9Te90",
        "colab_type": "code",
        "colab": {
          "base_uri": "https://localhost:8080/",
          "height": 35
        },
        "outputId": "a7b87f2f-0213-4dc3-9789-8ad7d2b17949"
      },
      "source": [
        "import tensorflow as tf\n",
        "\n",
        "tf.__version__"
      ],
      "execution_count": 3,
      "outputs": [
        {
          "output_type": "execute_result",
          "data": {
            "text/plain": [
              "'1.13.1'"
            ]
          },
          "metadata": {
            "tags": []
          },
          "execution_count": 3
        }
      ]
    },
    {
      "cell_type": "code",
      "metadata": {
        "id": "TzH4WKsfTpby",
        "colab_type": "code",
        "colab": {
          "base_uri": "https://localhost:8080/",
          "height": 35
        },
        "outputId": "96fa9ee3-23e1-44ab-a206-8675c8bc1bff"
      },
      "source": [
        "import theano as th\n",
        "th.__version__"
      ],
      "execution_count": 4,
      "outputs": [
        {
          "output_type": "execute_result",
          "data": {
            "text/plain": [
              "'1.0.4'"
            ]
          },
          "metadata": {
            "tags": []
          },
          "execution_count": 4
        }
      ]
    },
    {
      "cell_type": "code",
      "metadata": {
        "id": "IgW3o9dzTys8",
        "colab_type": "code",
        "colab": {}
      },
      "source": [
        "# OM SRI SAI RAM\n",
        "\n",
        "# Descr: Basic or experiment code to perform loss reserve prediction\n",
        "\n",
        "##############################\n",
        "# Step 1 : Reading Sample Data\n",
        "##############################\n",
        "\n",
        "import numpy as np\n",
        "import random\n",
        "import sklearn\n",
        "import os\n",
        "\n",
        "from sklearn.preprocessing import LabelEncoder\n",
        "\n",
        "os.environ[\"KERAS_BACKEND\"] = \"theano\"\n",
        "np.random.seed(7)\n",
        "random.seed(7)\n",
        "accident_years = np.arange(2005,2013,1)\n",
        "development_years = np.arange(0,8,1)\n",
        "triangle = np.array(([1232,946,520,722,316,165,48,14],\n",
        "                   [1469,1201,708,845, 461,235,56,18],\n",
        "                   [1652,1416,959,954,605,287,69,21],\n",
        "                   [1831,1634,1124,1087,725,314,79,24],\n",
        "                   [2074,1919,1330,1240,756,359,91,28],\n",
        "                   [2434,2263,1661,1540,909,432,109,33],\n",
        "                   [2810,2108,1544,1565,924,439,111,34],\n",
        "                   [3072,2614,1785,1810,1069,508,128,39]))\n"
      ],
      "execution_count": 0,
      "outputs": []
    },
    {
      "cell_type": "code",
      "metadata": {
        "id": "YW6CBrKCVkoI",
        "colab_type": "code",
        "colab": {
          "base_uri": "https://localhost:8080/",
          "height": 35
        },
        "outputId": "135f0ec2-2f82-436f-c14d-09f780896bf9"
      },
      "source": [
        "type(triangle)"
      ],
      "execution_count": 7,
      "outputs": [
        {
          "output_type": "execute_result",
          "data": {
            "text/plain": [
              "numpy.ndarray"
            ]
          },
          "metadata": {
            "tags": []
          },
          "execution_count": 7
        }
      ]
    },
    {
      "cell_type": "code",
      "metadata": {
        "id": "_SaElBKbVoUC",
        "colab_type": "code",
        "colab": {
          "base_uri": "https://localhost:8080/",
          "height": 191
        },
        "outputId": "f1ce98a5-d1c0-4199-b2ab-33eb2cedd6a2"
      },
      "source": [
        "print(' Accident Years',accident_years)\n",
        "print(' Developement Years',development_years)\n",
        "print(' Input', triangle)\n"
      ],
      "execution_count": 8,
      "outputs": [
        {
          "output_type": "stream",
          "text": [
            " Accident Years [2005 2006 2007 2008 2009 2010 2011 2012]\n",
            " Developement Years [0 1 2 3 4 5 6 7]\n",
            " Input [[1232  946  520  722  316  165   48   14]\n",
            " [1469 1201  708  845  461  235   56   18]\n",
            " [1652 1416  959  954  605  287   69   21]\n",
            " [1831 1634 1124 1087  725  314   79   24]\n",
            " [2074 1919 1330 1240  756  359   91   28]\n",
            " [2434 2263 1661 1540  909  432  109   33]\n",
            " [2810 2108 1544 1565  924  439  111   34]\n",
            " [3072 2614 1785 1810 1069  508  128   39]]\n"
          ],
          "name": "stdout"
        }
      ]
    },
    {
      "cell_type": "code",
      "metadata": {
        "id": "6xFnd0UgXEsv",
        "colab_type": "code",
        "colab": {
          "base_uri": "https://localhost:8080/",
          "height": 156
        },
        "outputId": "646097a9-a3e8-48f1-f15e-647c9597c943"
      },
      "source": [
        "# Cum calc\n",
        "C = np.zeros(shape=(np.shape(triangle)[0],np.shape(triangle)[1]))\n",
        "for i in range(np.shape(triangle)[0]):\n",
        "    for j in range(np.shape(triangle)[1]):\n",
        "        C[i,j] = sum(triangle[i,:j+1])\n",
        "\n",
        "print('C',C)"
      ],
      "execution_count": 9,
      "outputs": [
        {
          "output_type": "stream",
          "text": [
            "C [[ 1232.  2178.  2698.  3420.  3736.  3901.  3949.  3963.]\n",
            " [ 1469.  2670.  3378.  4223.  4684.  4919.  4975.  4993.]\n",
            " [ 1652.  3068.  4027.  4981.  5586.  5873.  5942.  5963.]\n",
            " [ 1831.  3465.  4589.  5676.  6401.  6715.  6794.  6818.]\n",
            " [ 2074.  3993.  5323.  6563.  7319.  7678.  7769.  7797.]\n",
            " [ 2434.  4697.  6358.  7898.  8807.  9239.  9348.  9381.]\n",
            " [ 2810.  4918.  6462.  8027.  8951.  9390.  9501.  9535.]\n",
            " [ 3072.  5686.  7471.  9281. 10350. 10858. 10986. 11025.]]\n"
          ],
          "name": "stdout"
        }
      ]
    },
    {
      "cell_type": "code",
      "metadata": {
        "id": "S-kN237MXHlB",
        "colab_type": "code",
        "colab": {
          "base_uri": "https://localhost:8080/",
          "height": 52
        },
        "outputId": "ae1d86db-c350-4806-903c-14247192b65e"
      },
      "source": [
        "l_encode = LabelEncoder()\n",
        "l_encode.fit(accident_years)\n",
        "a_yr = l_encode.transform(accident_years)\n",
        "l_encode.fit(development_years)\n",
        "dev_yr = l_encode.transform(development_years)\n",
        "\n",
        "print(a_yr)\n",
        "print(dev_yr)\n"
      ],
      "execution_count": 10,
      "outputs": [
        {
          "output_type": "stream",
          "text": [
            "[0 1 2 3 4 5 6 7]\n",
            "[0 1 2 3 4 5 6 7]\n"
          ],
          "name": "stdout"
        }
      ]
    },
    {
      "cell_type": "code",
      "metadata": {
        "id": "9CYD5o6iXTgj",
        "colab_type": "code",
        "colab": {}
      },
      "source": [
        "train_data = []\n",
        "for i in range(np.shape(triangle)[0]):\n",
        "    for j in range(np.shape(triangle)[1]-i):\n",
        "        train_data.append([a_yr[i],dev_yr[j],C[i,j]])\n",
        "        \n",
        "test_data = []\n",
        "for i in range(1,np.shape(triangle)[0]):\n",
        "    for j in range(np.shape(triangle)[1]-i,np.shape(triangle)[1]):\n",
        "        test_data.append([a_yr[i],dev_yr[j],C[i,j]])\n"
      ],
      "execution_count": 0,
      "outputs": []
    },
    {
      "cell_type": "code",
      "metadata": {
        "id": "zavACbUlXbPn",
        "colab_type": "code",
        "colab": {
          "base_uri": "https://localhost:8080/",
          "height": 1144
        },
        "outputId": "d0f26f1e-964a-41a9-cab2-3b2f5bc32a29"
      },
      "source": [
        "type(train_data)\n",
        "train_data = np.array(train_data)\n",
        "type(train_data)\n",
        "print(' Train Data',train_data)\n",
        "train_data.shape\n",
        "\n",
        "type(test_data)\n",
        "test_data = np.array(test_data)\n",
        "type(test_data)\n",
        "print(' Test Data',test_data)\n",
        "test_data.shape"
      ],
      "execution_count": 21,
      "outputs": [
        {
          "output_type": "stream",
          "text": [
            " Train Data [[0.000e+00 0.000e+00 1.232e+03]\n",
            " [0.000e+00 1.000e+00 2.178e+03]\n",
            " [0.000e+00 2.000e+00 2.698e+03]\n",
            " [0.000e+00 3.000e+00 3.420e+03]\n",
            " [0.000e+00 4.000e+00 3.736e+03]\n",
            " [0.000e+00 5.000e+00 3.901e+03]\n",
            " [0.000e+00 6.000e+00 3.949e+03]\n",
            " [0.000e+00 7.000e+00 3.963e+03]\n",
            " [1.000e+00 0.000e+00 1.469e+03]\n",
            " [1.000e+00 1.000e+00 2.670e+03]\n",
            " [1.000e+00 2.000e+00 3.378e+03]\n",
            " [1.000e+00 3.000e+00 4.223e+03]\n",
            " [1.000e+00 4.000e+00 4.684e+03]\n",
            " [1.000e+00 5.000e+00 4.919e+03]\n",
            " [1.000e+00 6.000e+00 4.975e+03]\n",
            " [2.000e+00 0.000e+00 1.652e+03]\n",
            " [2.000e+00 1.000e+00 3.068e+03]\n",
            " [2.000e+00 2.000e+00 4.027e+03]\n",
            " [2.000e+00 3.000e+00 4.981e+03]\n",
            " [2.000e+00 4.000e+00 5.586e+03]\n",
            " [2.000e+00 5.000e+00 5.873e+03]\n",
            " [3.000e+00 0.000e+00 1.831e+03]\n",
            " [3.000e+00 1.000e+00 3.465e+03]\n",
            " [3.000e+00 2.000e+00 4.589e+03]\n",
            " [3.000e+00 3.000e+00 5.676e+03]\n",
            " [3.000e+00 4.000e+00 6.401e+03]\n",
            " [4.000e+00 0.000e+00 2.074e+03]\n",
            " [4.000e+00 1.000e+00 3.993e+03]\n",
            " [4.000e+00 2.000e+00 5.323e+03]\n",
            " [4.000e+00 3.000e+00 6.563e+03]\n",
            " [5.000e+00 0.000e+00 2.434e+03]\n",
            " [5.000e+00 1.000e+00 4.697e+03]\n",
            " [5.000e+00 2.000e+00 6.358e+03]\n",
            " [6.000e+00 0.000e+00 2.810e+03]\n",
            " [6.000e+00 1.000e+00 4.918e+03]\n",
            " [7.000e+00 0.000e+00 3.072e+03]]\n",
            " Test Data [[1.0000e+00 7.0000e+00 4.9930e+03]\n",
            " [2.0000e+00 6.0000e+00 5.9420e+03]\n",
            " [2.0000e+00 7.0000e+00 5.9630e+03]\n",
            " [3.0000e+00 5.0000e+00 6.7150e+03]\n",
            " [3.0000e+00 6.0000e+00 6.7940e+03]\n",
            " [3.0000e+00 7.0000e+00 6.8180e+03]\n",
            " [4.0000e+00 4.0000e+00 7.3190e+03]\n",
            " [4.0000e+00 5.0000e+00 7.6780e+03]\n",
            " [4.0000e+00 6.0000e+00 7.7690e+03]\n",
            " [4.0000e+00 7.0000e+00 7.7970e+03]\n",
            " [5.0000e+00 3.0000e+00 7.8980e+03]\n",
            " [5.0000e+00 4.0000e+00 8.8070e+03]\n",
            " [5.0000e+00 5.0000e+00 9.2390e+03]\n",
            " [5.0000e+00 6.0000e+00 9.3480e+03]\n",
            " [5.0000e+00 7.0000e+00 9.3810e+03]\n",
            " [6.0000e+00 2.0000e+00 6.4620e+03]\n",
            " [6.0000e+00 3.0000e+00 8.0270e+03]\n",
            " [6.0000e+00 4.0000e+00 8.9510e+03]\n",
            " [6.0000e+00 5.0000e+00 9.3900e+03]\n",
            " [6.0000e+00 6.0000e+00 9.5010e+03]\n",
            " [6.0000e+00 7.0000e+00 9.5350e+03]\n",
            " [7.0000e+00 1.0000e+00 5.6860e+03]\n",
            " [7.0000e+00 2.0000e+00 7.4710e+03]\n",
            " [7.0000e+00 3.0000e+00 9.2810e+03]\n",
            " [7.0000e+00 4.0000e+00 1.0350e+04]\n",
            " [7.0000e+00 5.0000e+00 1.0858e+04]\n",
            " [7.0000e+00 6.0000e+00 1.0986e+04]\n",
            " [7.0000e+00 7.0000e+00 1.1025e+04]]\n"
          ],
          "name": "stdout"
        },
        {
          "output_type": "execute_result",
          "data": {
            "text/plain": [
              "(28, 3)"
            ]
          },
          "metadata": {
            "tags": []
          },
          "execution_count": 21
        }
      ]
    },
    {
      "cell_type": "code",
      "metadata": {
        "id": "u9QTPXCuk66q",
        "colab_type": "code",
        "colab": {
          "base_uri": "https://localhost:8080/",
          "height": 52
        },
        "outputId": "ac94c19f-be17-4e45-de39-219ae88a54e3"
      },
      "source": [
        "print(type(train_data))\n",
        "train_data.shape"
      ],
      "execution_count": 39,
      "outputs": [
        {
          "output_type": "stream",
          "text": [
            "<class 'numpy.ndarray'>\n"
          ],
          "name": "stdout"
        },
        {
          "output_type": "execute_result",
          "data": {
            "text/plain": [
              "(36, 3)"
            ]
          },
          "metadata": {
            "tags": []
          },
          "execution_count": 39
        }
      ]
    },
    {
      "cell_type": "code",
      "metadata": {
        "id": "ZmetbmKLXvZr",
        "colab_type": "code",
        "colab": {}
      },
      "source": [
        "#############################################\n",
        "# Step 3: Build Model using Neural Networks\n",
        "#############################################\n",
        "\n",
        "import keras\n",
        "import keras.backend as K\n",
        "from keras.layers import Input, Dense, Dropout\n",
        "from keras.models import Model, Sequential\n",
        "from keras import optimizers"
      ],
      "execution_count": 0,
      "outputs": []
    },
    {
      "cell_type": "code",
      "metadata": {
        "id": "YgBOphGgX9Rp",
        "colab_type": "code",
        "colab": {}
      },
      "source": [
        "#define the loss function\n",
        "def poisson_dev(y_true, y_pred):\n",
        "    return 2*K.mean(y_pred - y_true -y_true*(K.log(K.clip(y_pred,K.epsilon(),None)) -K.log(K.clip(y_true,K.epsilon(),None))),axis=-1) \n"
      ],
      "execution_count": 0,
      "outputs": []
    },
    {
      "cell_type": "code",
      "metadata": {
        "id": "n2HRd04UklMg",
        "colab_type": "code",
        "colab": {
          "base_uri": "https://localhost:8080/",
          "height": 35
        },
        "outputId": "4b79f118-eb1c-4430-d00a-132e6b687273"
      },
      "source": [
        "print(type(train_data))\n"
      ],
      "execution_count": 37,
      "outputs": [
        {
          "output_type": "stream",
          "text": [
            "<class 'numpy.ndarray'>\n"
          ],
          "name": "stdout"
        }
      ]
    },
    {
      "cell_type": "code",
      "metadata": {
        "id": "T1FqBvc7YIDr",
        "colab_type": "code",
        "colab": {}
      },
      "source": [
        "model = Sequential()\n",
        "ip_dim = 2\n",
        "#model.add(Dropout(0.1, input_shape=(ip_dim,))\n",
        "model.add(Dense(ip_dim, input_dim=ip_dim, kernel_initializer='normal', activation='relu'))\n",
        "model.add(Dense(20, kernel_initializer='normal', activation='relu'))\n",
        "model.add(Dropout(0.1))\n",
        "model.add(Dense(15, kernel_initializer='normal', activation='relu'))\n",
        "model.add(Dropout(0.1))\n",
        "model.add(Dense(10, kernel_initializer='normal', activation='relu'))\n",
        "model.add(Dense(1, kernel_initializer='normal',activation=\"exponential\"))\n",
        "# Compile model\n",
        "model.compile(loss=poisson_dev, optimizer='adam',metrics=['accuracy'])\n"
      ],
      "execution_count": 0,
      "outputs": []
    },
    {
      "cell_type": "code",
      "metadata": {
        "id": "P-wsu_pDYSZ4",
        "colab_type": "code",
        "colab": {}
      },
      "source": [
        "history = model.fit(x=train_data[:,:ip_dim], y=train_data[:,ip_dim], batch_size=1, epochs=500, verbose=1, callbacks=None, validation_split=0.33, validation_data=None, shuffle=True, class_weight=None, sample_weight=None, initial_epoch=0, steps_per_epoch=None, validation_steps=None)\n"
      ],
      "execution_count": 0,
      "outputs": []
    },
    {
      "cell_type": "code",
      "metadata": {
        "id": "a4u2tyPlsIoY",
        "colab_type": "code",
        "colab": {}
      },
      "source": [
        "x= train_data[:,:ip_dim]\n",
        "y= train_data[:,ip_dim]"
      ],
      "execution_count": 0,
      "outputs": []
    },
    {
      "cell_type": "code",
      "metadata": {
        "id": "tnkeTxtJsBda",
        "colab_type": "code",
        "colab": {
          "base_uri": "https://localhost:8080/",
          "height": 35
        },
        "outputId": "62ff22de-ce35-4cd2-bfa0-f2eead4d498e"
      },
      "source": [
        "type(x)\n",
        "x.shape\n",
        "x[2]\n",
        "y[2]"
      ],
      "execution_count": 47,
      "outputs": [
        {
          "output_type": "execute_result",
          "data": {
            "text/plain": [
              "2698.0"
            ]
          },
          "metadata": {
            "tags": []
          },
          "execution_count": 47
        }
      ]
    },
    {
      "cell_type": "code",
      "metadata": {
        "id": "zMk4-skAYw9v",
        "colab_type": "code",
        "colab": {
          "base_uri": "https://localhost:8080/",
          "height": 503
        },
        "outputId": "9ff12abf-07db-45da-c379-24690a065b18"
      },
      "source": [
        "###########################################\n",
        "# Step 4: Model Prediction\n",
        "#############################################\n",
        "out = model.predict(test_data[:,:2])\n",
        "print(out)"
      ],
      "execution_count": 48,
      "outputs": [
        {
          "output_type": "stream",
          "text": [
            "[[ 5921.562 ]\n",
            " [ 6008.455 ]\n",
            " [ 6879.707 ]\n",
            " [ 6096.623 ]\n",
            " [ 6980.6597]\n",
            " [ 7992.8857]\n",
            " [ 6186.091 ]\n",
            " [ 7083.1006]\n",
            " [ 8110.1733]\n",
            " [ 9284.297 ]\n",
            " [ 6276.8594]\n",
            " [ 7187.038 ]\n",
            " [ 8229.104 ]\n",
            " [ 9420.319 ]\n",
            " [10783.961 ]\n",
            " [ 6368.972 ]\n",
            " [ 7292.5005]\n",
            " [ 8349.666 ]\n",
            " [ 9558.334 ]\n",
            " [10941.954 ]\n",
            " [12525.873 ]\n",
            " [ 6462.4365]\n",
            " [ 7399.518 ]\n",
            " [ 8471.987 ]\n",
            " [ 9698.371 ]\n",
            " [11102.263 ]\n",
            " [12709.387 ]\n",
            " [14549.153 ]]\n"
          ],
          "name": "stdout"
        }
      ]
    },
    {
      "cell_type": "code",
      "metadata": {
        "id": "aJ22N70mudXs",
        "colab_type": "code",
        "colab": {
          "base_uri": "https://localhost:8080/",
          "height": 35
        },
        "outputId": "0f56fd5c-df9c-4980-af37-2fe4380e3975"
      },
      "source": [
        "out.shape"
      ],
      "execution_count": 49,
      "outputs": [
        {
          "output_type": "execute_result",
          "data": {
            "text/plain": [
              "(28, 1)"
            ]
          },
          "metadata": {
            "tags": []
          },
          "execution_count": 49
        }
      ]
    },
    {
      "cell_type": "code",
      "metadata": {
        "id": "ILFZ18quY_bh",
        "colab_type": "code",
        "colab": {
          "base_uri": "https://localhost:8080/",
          "height": 35
        },
        "outputId": "cd6afff3-c692-4a03-818d-e30ec0daba13"
      },
      "source": [
        "#################################\n",
        "# Step 5 : Reserve calculation\n",
        "#################################\n",
        "\n",
        "import matplotlib.pyplot as plt\n",
        "#print(' Test Data',test_data)\n",
        "#print('pred', model.predict([2,]))\n",
        "#print('C',C)\n",
        "true_reserve = 0\n",
        "for i in range(1,np.shape(triangle)[0]):\n",
        "    j = np.shape(triangle)[1]-1-i\n",
        "    #print(i,j)\n",
        "    #print('last known',C[i,j])\n",
        "    #print(' last estimate',C[i,np.shape(triangle)[1]-1])\n",
        "    true_reserve += (C[i,np.shape(triangle)[1]-1] - C[i,j])\n",
        "    #print(true_reserve)\n",
        "print(\" True reserve\",true_reserve)\n"
      ],
      "execution_count": 74,
      "outputs": [
        {
          "output_type": "stream",
          "text": [
            " True reserve 17352.0\n"
          ],
          "name": "stdout"
        }
      ]
    },
    {
      "cell_type": "code",
      "metadata": {
        "id": "yALeTUlwu9Pa",
        "colab_type": "code",
        "colab": {
          "base_uri": "https://localhost:8080/",
          "height": 35
        },
        "outputId": "41f43c65-7880-40cb-a270-a000a0392f9a"
      },
      "source": [
        "appended= np.array(list(zip(test_data,np.ravel(out))))\n",
        "len(appended)\n",
        "\n",
        "out_dict = {}\n",
        "for i in range(len(appended)):\n",
        "    #print(tuple(appended[i,0][:2]))\n",
        "    #print(appended[i,1])\n",
        "    out_dict[tuple(appended[i,0][:2])] = appended[i,1]\n",
        "\n"
      ],
      "execution_count": 75,
      "outputs": [
        {
          "output_type": "stream",
          "text": [
            "The zipped result is : "
          ],
          "name": "stdout"
        }
      ]
    },
    {
      "cell_type": "code",
      "metadata": {
        "id": "twwPjcnsaZak",
        "colab_type": "code",
        "colab": {}
      },
      "source": [
        "pred_reserve = 0\n",
        "final_pred = []\n",
        "actuals = []\n",
        "for i in range(1,np.shape(triangle)[0]):\n",
        "    j = int(np.shape(triangle)[1]-1-i)    \n",
        "    #print(i,j)\n",
        "    #print('last known',C[i,j])\n",
        "    #print(' last pred', out_dict[(i,np.shape(triangle)[1]-1)])\n",
        "    #print(' last estimate',C[i,np.shape(triangle)[1]-1])\n",
        "    final_pred.append(out_dict[(i,np.shape(triangle)[1]-1)] - C[i,j])\n",
        "    actuals.append(C[i,np.shape(triangle)[1]-1] - C[i,j])\n",
        "    pred_reserve += (out_dict[(i,np.shape(triangle)[1]-1)] - C[i,j])"
      ],
      "execution_count": 0,
      "outputs": []
    },
    {
      "cell_type": "code",
      "metadata": {
        "id": "n04VZ3tRbOIV",
        "colab_type": "code",
        "colab": {
          "base_uri": "https://localhost:8080/",
          "height": 52
        },
        "outputId": "35d92d54-1579-49ff-916b-e1ed55478c78"
      },
      "source": [
        "print(\" Predicted reserve\",pred_reserve)\n",
        "print(' Bias',pred_reserve - true_reserve)\n"
      ],
      "execution_count": 78,
      "outputs": [
        {
          "output_type": "stream",
          "text": [
            " Predicted reserve 29777.43896484375\n",
            " Bias 12425.43896484375\n"
          ],
          "name": "stdout"
        }
      ]
    },
    {
      "cell_type": "code",
      "metadata": {
        "id": "IB8TWgU31Y-u",
        "colab_type": "code",
        "colab": {
          "base_uri": "https://localhost:8080/",
          "height": 287
        },
        "outputId": "c5006eab-07e4-4438-facd-94ec73a522ec"
      },
      "source": [
        "plt.figure()\n",
        "plt.plot(final_pred, label=\" Final Dev Year Loss Prediction\")\n",
        "plt.plot(actuals, label=\" Actual Final Dev Year Losses\")\n",
        "plt.legend()"
      ],
      "execution_count": 79,
      "outputs": [
        {
          "output_type": "execute_result",
          "data": {
            "text/plain": [
              "<matplotlib.legend.Legend at 0x7fe987122d68>"
            ]
          },
          "metadata": {
            "tags": []
          },
          "execution_count": 79
        },
        {
          "output_type": "display_data",
          "data": {
            "image/png": "[encoded data removed]",
            "text/plain": [
              "<Figure size 432x288 with 1 Axes>"
            ]
          },
          "metadata": {
            "tags": []
          }
        }
      ]
    },
    {
      "cell_type": "code",
      "metadata": {
        "id": "CMcwWP171bbx",
        "colab_type": "code",
        "colab": {
          "base_uri": "https://localhost:8080/",
          "height": 304
        },
        "outputId": "61b5ef94-0778-4fb8-a30f-b64e781fb4e4"
      },
      "source": [
        "#############################################\n",
        "# Step 6 : Not required but it is just error/prediction display for other values (accident and devlopment year combo)\n",
        "#######################################################\n",
        "\n",
        "from sklearn.metrics import mean_absolute_error as mae\n",
        "import matplotlib.pyplot as plt\n",
        "\n",
        "#print(\" Pred\", np.ravel(out))\n",
        "#print(\" Actual\", test_data[:,2])\n",
        "#print(\" Prediction      Actual\")\n",
        "#print(np.array(zip(np.ravel(out),test_data[:,2])))\n",
        "\n",
        "\n",
        "print(\" MAE\", mae(np.ravel(out),test_data[:,2]))\n",
        "error = ([x-y for x,y in zip(np.ravel(out),test_data[:,2])])\n",
        "print(\" Error Sum\", sum(error))\n",
        "plt.figure()\n",
        "plt.plot(np.ravel(out), label=\"Prediction\")\n",
        "plt.plot(np.ravel(test_data[:,2]), label=\"Actual\")\n",
        "plt.legend()\n",
        "plt.show()\n"
      ],
      "execution_count": 80,
      "outputs": [
        {
          "output_type": "stream",
          "text": [
            " MAE 964.4139229910714\n",
            " Error Sum 7887.2509765625\n"
          ],
          "name": "stdout"
        },
        {
          "output_type": "display_data",
          "data": {
            "image/png": "[encoded data removed]",
            "text/plain": [
              "<Figure size 432x288 with 1 Axes>"
            ]
          },
          "metadata": {
            "tags": []
          }
        }
      ]
    },
    {
      "cell_type": "code",
      "metadata": {
        "id": "2ozy2GZh2Amt",
        "colab_type": "code",
        "colab": {}
      },
      "source": [
        ""
      ],
      "execution_count": 0,
      "outputs": []
    }
  ]
}