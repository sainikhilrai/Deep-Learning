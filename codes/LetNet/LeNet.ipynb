{
 "cells": [
  {
   "cell_type": "code",
   "execution_count": 26,
   "metadata": {},
   "outputs": [],
   "source": [
    "#loading and normalizing the data\n",
    "import torch\n",
    "import torchvision\n",
    "import torchvision.transforms as transforms\n",
    "import matplotlib.pyplot as plt\n",
    "import numpy as np\n",
    "import torch.nn as nn\n",
    "import torch.nn.functional as F\n",
    "import torch.optim as optim\n",
    "from PIL import Image,ImageOps\n",
    "%matplotlib inline"
   ]
  },
  {
   "cell_type": "code",
   "execution_count": 21,
   "metadata": {},
   "outputs": [],
   "source": [
    "transform = transforms.Compose(\n",
    "    [transforms.Resize(size=(32,32), interpolation=2),transforms.ToTensor(),\n",
    "     transforms.Normalize((0.5, 0.5, 0.5), (0.5, 0.5, 0.5))])\n",
    "trainset = torchvision.datasets.MNIST(root='./data',train=True,download=False,transform=transform)\n",
    "trainloader = torch.utils.data.DataLoader(trainset,batch_size=4,shuffle=True,num_workers=2)\n",
    "testset = torchvision.datasets.MNIST(root='./data',train=False,download=False,transform=transform)\n",
    "testloader = torch.utils.data.DataLoader(testset, batch_size=4,\n",
    "                                         shuffle=False, num_workers=2)\n",
    "\n",
    "classes = ('zero', 'one', 'two', 'three',\n",
    "           'four', 'five', 'six', 'seven', 'eight', 'nine')"
   ]
  },
  {
   "cell_type": "code",
   "execution_count": 22,
   "metadata": {},
   "outputs": [
    {
     "name": "stdout",
     "output_type": "stream",
     "text": [
      "torch.Size([3, 32, 32])\n",
      " zero   two eight  zero\n"
     ]
    },
    {
     "data": {
      "image/png": "[encoded data removed]",
      "text/plain": [
       "<Figure size 432x288 with 1 Axes>"
      ]
     },
     "metadata": {},
     "output_type": "display_data"
    }
   ],
   "source": [
    "def imshow(img):\n",
    "    print(img.shape)\n",
    "    img = img / 2+ 0.5 #unnormalize\n",
    "    npimg = img.numpy()\n",
    "    plt.imshow(np.transpose(npimg,(1,2,0)))\n",
    "    \n",
    "#get some random training examples\n",
    "dataiter = iter(trainloader)\n",
    "images,labels = dataiter.next()\n",
    "\n",
    "\n",
    "imshow(torchvision.utils.make_grid(images[0]))\n",
    "print(' '.join('%5s'%classes[labels[j]] for j in range(4)))"
   ]
  },
  {
   "cell_type": "code",
   "execution_count": 24,
   "metadata": {},
   "outputs": [
    {
     "name": "stdout",
     "output_type": "stream",
     "text": [
      "LeNet(\n",
      "  (conv1): Conv2d(1, 6, kernel_size=(5, 5), stride=(1, 1))\n",
      "  (pool): AvgPool2d(kernel_size=2, stride=2, padding=0)\n",
      "  (conv2): Conv2d(6, 16, kernel_size=(5, 5), stride=(1, 1))\n",
      "  (fc1): Linear(in_features=400, out_features=120, bias=True)\n",
      "  (fc2): Linear(in_features=120, out_features=84, bias=True)\n",
      "  (fc3): Linear(in_features=84, out_features=10, bias=True)\n",
      ")\n"
     ]
    }
   ],
   "source": [
    "class LeNet(nn.Module):\n",
    "    def __init__(self):\n",
    "        super(LeNet, self).__init__()\n",
    "        self.conv1 = nn.Conv2d(1, 6, 5)\n",
    "        self.pool = nn.AvgPool2d(2,2)\n",
    "        self.conv2 = nn.Conv2d(6, 16, 5)\n",
    "        #@self.pool2 = nn.Avg2d(2, 2)\n",
    "        self.fc1 = nn.Linear(16 * 5 * 5, 120)\n",
    "        self.fc2 = nn.Linear(120, 84)\n",
    "        self.fc3 = nn.Linear(84, 10)\n",
    "\n",
    "    def forward(self, x):\n",
    "        x = self.pool(F.relu(self.conv1(x)))\n",
    "        x = self.pool(F.relu(self.conv2(x)))\n",
    "        x = x.view(-1, 16 * 5 * 5)\n",
    "        x = F.relu(self.fc1(x))\n",
    "        x = F.relu(self.fc2(x))\n",
    "        x = self.fc3(x)\n",
    "        return x\n",
    "\n",
    "\n",
    "model = LeNet()\n",
    "print(model)"
   ]
  },
  {
   "cell_type": "code",
   "execution_count": 27,
   "metadata": {},
   "outputs": [
    {
     "name": "stdout",
     "output_type": "stream",
     "text": [
      "cuda:0\n"
     ]
    }
   ],
   "source": [
    "#code on GPU\n",
    "device = torch.device(\"cuda:0\" if torch.cuda.is_available() else \"cpu\")\n",
    "print(device)"
   ]
  },
  {
   "cell_type": "code",
   "execution_count": 28,
   "metadata": {},
   "outputs": [],
   "source": [
    "model = model.to(device)"
   ]
  },
  {
   "cell_type": "code",
   "execution_count": 30,
   "metadata": {},
   "outputs": [],
   "source": [
    "#define a loss function\n",
    "criterion = nn.CrossEntropyLoss()\n",
    "optimizer = optim.SGD(model.parameters(),lr=0.01,momentum = 0.9)\n",
    "\n",
    "criterion = criterion.to(device)"
   ]
  },
  {
   "cell_type": "code",
   "execution_count": 31,
   "metadata": {},
   "outputs": [
    {
     "name": "stdout",
     "output_type": "stream",
     "text": [
      "[1,  2000] loss: 0.632\n",
      "[1,  4000] loss: 0.209\n",
      "[1,  6000] loss: 0.189\n",
      "[1,  8000] loss: 0.176\n",
      "[1, 10000] loss: 0.151\n",
      "[1, 12000] loss: 0.153\n",
      "[1, 14000] loss: 0.153\n",
      "[2,  2000] loss: 0.106\n",
      "[2,  4000] loss: 0.105\n",
      "[2,  6000] loss: 0.099\n",
      "[2,  8000] loss: 0.108\n",
      "[2, 10000] loss: 0.099\n",
      "[2, 12000] loss: 0.108\n",
      "[2, 14000] loss: 0.111\n",
      "[3,  2000] loss: 0.064\n",
      "[3,  4000] loss: 0.076\n",
      "[3,  6000] loss: 0.090\n",
      "[3,  8000] loss: 0.101\n",
      "[3, 10000] loss: 0.105\n",
      "[3, 12000] loss: 0.093\n",
      "[3, 14000] loss: 0.071\n",
      "[4,  2000] loss: 0.079\n",
      "[4,  4000] loss: 0.084\n",
      "[4,  6000] loss: 0.083\n",
      "[4,  8000] loss: 0.067\n",
      "[4, 10000] loss: 0.087\n",
      "[4, 12000] loss: 0.090\n",
      "[4, 14000] loss: 0.057\n",
      "[5,  2000] loss: 0.077\n",
      "[5,  4000] loss: 0.086\n",
      "[5,  6000] loss: 0.083\n",
      "[5,  8000] loss: 0.099\n",
      "[5, 10000] loss: 0.074\n",
      "[5, 12000] loss: 0.087\n",
      "[5, 14000] loss: 0.095\n",
      "[6,  2000] loss: 0.066\n",
      "[6,  4000] loss: 0.073\n",
      "[6,  6000] loss: 0.096\n",
      "[6,  8000] loss: 0.086\n",
      "[6, 10000] loss: 0.077\n",
      "[6, 12000] loss: 0.107\n",
      "[6, 14000] loss: 0.083\n",
      "[7,  2000] loss: 0.100\n",
      "[7,  4000] loss: 0.091\n",
      "[7,  6000] loss: 0.090\n",
      "[7,  8000] loss: 0.075\n",
      "[7, 10000] loss: 0.066\n",
      "[7, 12000] loss: 0.085\n",
      "[7, 14000] loss: 0.131\n",
      "[8,  2000] loss: 0.088\n",
      "[8,  4000] loss: 0.069\n",
      "[8,  6000] loss: 0.082\n",
      "[8,  8000] loss: 0.088\n",
      "[8, 10000] loss: 0.072\n",
      "[8, 12000] loss: 0.110\n",
      "[8, 14000] loss: 0.120\n",
      "[9,  2000] loss: 0.087\n",
      "[9,  4000] loss: 0.083\n",
      "[9,  6000] loss: 0.098\n",
      "[9,  8000] loss: 0.082\n",
      "[9, 10000] loss: 0.084\n",
      "[9, 12000] loss: 0.111\n",
      "[9, 14000] loss: 0.116\n",
      "[10,  2000] loss: 0.079\n",
      "[10,  4000] loss: 0.099\n",
      "[10,  6000] loss: 0.210\n",
      "[10,  8000] loss: 0.140\n",
      "[10, 10000] loss: 0.112\n",
      "[10, 12000] loss: 0.161\n",
      "[10, 14000] loss: 0.118\n",
      "finished Training\n"
     ]
    }
   ],
   "source": [
    "#tarin the network\n",
    "for epoch in range(10):\n",
    "    running_loss = 0.0\n",
    "    for i , data in enumerate(trainloader,0):\n",
    "        #gets the inputs\n",
    "        inputs,labels =data\n",
    "        inputs = inputs.to(device)\n",
    "        labels = labels.to(device)\n",
    "        #zero the parameter gradients\n",
    "        optimizer.zero_grad()\n",
    "        \n",
    "        #forward+backward+optimize\n",
    "        output = model(inputs)\n",
    "        loss = criterion(output,labels)\n",
    "        loss.backward()\n",
    "        optimizer.step()\n",
    "        \n",
    "        #print the statistics\n",
    "        running_loss += loss.item()\n",
    "        if i%2000 == 1999:              #print every 2000 mini-batches\n",
    "            print('[%d, %5d] loss: %.3f' %\n",
    "                  (epoch + 1, i + 1, running_loss / 2000))\n",
    "            running_loss = 0.0\n",
    "            \n",
    "print(\"finished Training\")\n"
   ]
  },
  {
   "cell_type": "code",
   "execution_count": 34,
   "metadata": {},
   "outputs": [
    {
     "name": "stdout",
     "output_type": "stream",
     "text": [
      "total 10000, correct9779\n",
      "Accuracy 97.0\n",
      "finished Testing\n"
     ]
    }
   ],
   "source": [
    "#testing\n",
    "correct= 0\n",
    "total= 0\n",
    "for i , data in enumerate(testloader,0):\n",
    "        #gets the inputs\n",
    "        inputs,labels =data\n",
    "        inputs = inputs.to(device)\n",
    "        labels = labels.to(device)\n",
    "        output = net(inputs)\n",
    "        _,prediction= torch.max(output.data,1)\n",
    "        correct += (prediction == labels).sum()\n",
    "        total+= labels.size(0)\n",
    "\n",
    "print(\"total {}, correct{}\" .format(total,correct ))\n",
    "print(\"Accuracy \" + str(float(correct * 100. /total)))\n",
    "print(\"finished Testing\")\n"
   ]
  },
  {
   "cell_type": "code",
   "execution_count": null,
   "metadata": {
    "collapsed": true
   },
   "outputs": [],
   "source": []
  },
  {
   "cell_type": "code",
   "execution_count": null,
   "metadata": {
    "collapsed": true
   },
   "outputs": [],
   "source": []
  }
 ],
 "metadata": {
  "anaconda-cloud": {},
  "kernelspec": {
   "display_name": "Python 3",
   "language": "python",
   "name": "python3"
  },
  "language_info": {
   "codemirror_mode": {
    "name": "ipython",
    "version": 3
   },
   "file_extension": ".py",
   "mimetype": "text/x-python",
   "name": "python",
   "nbconvert_exporter": "python",
   "pygments_lexer": "ipython3",
   "version": "3.6.5"
  }
 },
 "nbformat": 4,
 "nbformat_minor": 2
}
